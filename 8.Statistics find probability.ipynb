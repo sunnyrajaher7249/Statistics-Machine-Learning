{
 "cells": [
  {
   "cell_type": "code",
   "execution_count": 1,
   "id": "1b39695c",
   "metadata": {},
   "outputs": [],
   "source": [
    "from scipy import stats\n"
   ]
  },
  {
   "cell_type": "markdown",
   "id": "fda459c6",
   "metadata": {},
   "source": [
    "- Find the probability that a normal distribution random variable has mean of 60 and a stdev of 10 and we want to find the probability that X is less than 70"
   ]
  },
  {
   "cell_type": "code",
   "execution_count": 2,
   "id": "164371eb",
   "metadata": {},
   "outputs": [
    {
     "data": {
      "text/plain": [
       "0.8413447460685429"
      ]
     },
     "execution_count": 2,
     "metadata": {},
     "output_type": "execute_result"
    }
   ],
   "source": [
    "stats.norm.cdf(70,60,10) # ( x , mean , std)\n",
    "                         # cdf  = Cumulative distribution function"
   ]
  },
  {
   "cell_type": "markdown",
   "id": "1b0f630b",
   "metadata": {},
   "source": [
    "- Find the probability that a normal distribution random variable has mean of 60 and a stdev of 10 and we want to find the probability that X is greater than 70"
   ]
  },
  {
   "cell_type": "code",
   "execution_count": 3,
   "id": "8230f1a5",
   "metadata": {},
   "outputs": [
    {
     "data": {
      "text/plain": [
       "0.15865525393145707"
      ]
     },
     "execution_count": 3,
     "metadata": {},
     "output_type": "execute_result"
    }
   ],
   "source": [
    "1-stats.norm.cdf(70,60,10)"
   ]
  },
  {
   "cell_type": "code",
   "execution_count": 4,
   "id": "7fc35ec3",
   "metadata": {},
   "outputs": [
    {
     "data": {
      "text/plain": [
       "0.5244005127080407"
      ]
     },
     "execution_count": 4,
     "metadata": {},
     "output_type": "execute_result"
    }
   ],
   "source": [
    "stats.norm.ppf(0.70)  #point percent function"
   ]
  },
  {
   "cell_type": "code",
   "execution_count": 5,
   "id": "767b5287",
   "metadata": {},
   "outputs": [],
   "source": [
    "# mean = 711 & std = 29 What is the probability that x <= 680"
   ]
  },
  {
   "cell_type": "code",
   "execution_count": 6,
   "id": "e5d083c0",
   "metadata": {},
   "outputs": [
    {
     "data": {
      "text/plain": [
       "0.14254260383881612"
      ]
     },
     "execution_count": 6,
     "metadata": {},
     "output_type": "execute_result"
    }
   ],
   "source": [
    "stats.norm.cdf(680,711,29)"
   ]
  },
  {
   "cell_type": "markdown",
   "id": "2a064b0a",
   "metadata": {},
   "source": [
    "- What is P(697<= X <= 740)"
   ]
  },
  {
   "cell_type": "code",
   "execution_count": 7,
   "id": "a4629749",
   "metadata": {},
   "outputs": [
    {
     "data": {
      "text/plain": [
       "0.5267111786415019"
      ]
     },
     "execution_count": 7,
     "metadata": {},
     "output_type": "execute_result"
    }
   ],
   "source": [
    "stats.norm.cdf(740,711,29)-stats.norm.cdf(697,711,29)\n",
    "\n",
    "# There are 52% chances the x is between 697 to 740"
   ]
  },
  {
   "cell_type": "code",
   "execution_count": null,
   "id": "ddab0962",
   "metadata": {},
   "outputs": [],
   "source": []
  },
  {
   "cell_type": "code",
   "execution_count": null,
   "id": "2d1caf10",
   "metadata": {},
   "outputs": [],
   "source": []
  },
  {
   "cell_type": "code",
   "execution_count": 8,
   "id": "8b6a384b",
   "metadata": {},
   "outputs": [
    {
     "data": {
      "text/plain": [
       "1.959963984540054"
      ]
     },
     "execution_count": 8,
     "metadata": {},
     "output_type": "execute_result"
    }
   ],
   "source": [
    "stats.norm .ppf(0.975) # z distribution"
   ]
  },
  {
   "cell_type": "code",
   "execution_count": 10,
   "id": "c04830ab",
   "metadata": {},
   "outputs": [
    {
     "data": {
      "text/plain": [
       "(-1.959963984540054, 1.959963984540054)"
      ]
     },
     "execution_count": 10,
     "metadata": {},
     "output_type": "execute_result"
    }
   ],
   "source": [
    "stats.norm.interval(0.95) # 0.95= Confidence level # 1.95= Z score"
   ]
  },
  {
   "cell_type": "code",
   "execution_count": null,
   "id": "4305c840",
   "metadata": {},
   "outputs": [],
   "source": []
  },
  {
   "cell_type": "code",
   "execution_count": 13,
   "id": "7b9b3b40",
   "metadata": {},
   "outputs": [
    {
     "data": {
      "text/plain": [
       "1.977177724476122"
      ]
     },
     "execution_count": 13,
     "metadata": {},
     "output_type": "execute_result"
    }
   ],
   "source": [
    "stats.t.ppf(0.975, df = 139) # t distribution"
   ]
  },
  {
   "cell_type": "code",
   "execution_count": 15,
   "id": "e217128e",
   "metadata": {},
   "outputs": [
    {
     "data": {
      "text/plain": [
       "(-1.977177724476122, 1.977177724476122)"
      ]
     },
     "execution_count": 15,
     "metadata": {},
     "output_type": "execute_result"
    }
   ],
   "source": [
    "stats.t.interval(0.95, df =139)"
   ]
  },
  {
   "cell_type": "code",
   "execution_count": null,
   "id": "59bc55b8",
   "metadata": {},
   "outputs": [],
   "source": []
  }
 ],
 "metadata": {
  "kernelspec": {
   "display_name": "Python 3 (ipykernel)",
   "language": "python",
   "name": "python3"
  },
  "language_info": {
   "codemirror_mode": {
    "name": "ipython",
    "version": 3
   },
   "file_extension": ".py",
   "mimetype": "text/x-python",
   "name": "python",
   "nbconvert_exporter": "python",
   "pygments_lexer": "ipython3",
   "version": "3.9.13"
  }
 },
 "nbformat": 4,
 "nbformat_minor": 5
}
