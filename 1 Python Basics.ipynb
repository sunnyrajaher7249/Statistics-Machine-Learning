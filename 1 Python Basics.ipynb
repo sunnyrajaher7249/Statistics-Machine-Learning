{
 "cells": [
  {
   "cell_type": "markdown",
   "id": "e2d795a8",
   "metadata": {},
   "source": [
    "# Python basics"
   ]
  },
  {
   "cell_type": "code",
   "execution_count": 44,
   "id": "4f7128c5",
   "metadata": {
    "ExecuteTime": {
     "end_time": "2022-11-08T08:11:50.981996Z",
     "start_time": "2022-11-08T08:11:50.975356Z"
    }
   },
   "outputs": [],
   "source": [
    "a =10\n",
    "b =10"
   ]
  },
  {
   "cell_type": "code",
   "execution_count": 45,
   "id": "cba72be6",
   "metadata": {
    "ExecuteTime": {
     "end_time": "2022-11-08T08:11:51.182066Z",
     "start_time": "2022-11-08T08:11:51.161943Z"
    }
   },
   "outputs": [
    {
     "data": {
      "text/plain": [
       "10"
      ]
     },
     "execution_count": 45,
     "metadata": {},
     "output_type": "execute_result"
    }
   ],
   "source": [
    "a"
   ]
  },
  {
   "cell_type": "code",
   "execution_count": 46,
   "id": "91d93beb",
   "metadata": {
    "ExecuteTime": {
     "end_time": "2022-11-08T08:11:51.573320Z",
     "start_time": "2022-11-08T08:11:51.561769Z"
    }
   },
   "outputs": [
    {
     "data": {
      "text/plain": [
       "int"
      ]
     },
     "execution_count": 46,
     "metadata": {},
     "output_type": "execute_result"
    }
   ],
   "source": [
    "type(a)"
   ]
  },
  {
   "cell_type": "code",
   "execution_count": 47,
   "id": "0b3c37a2",
   "metadata": {
    "ExecuteTime": {
     "end_time": "2022-11-08T08:11:51.790520Z",
     "start_time": "2022-11-08T08:11:51.774032Z"
    }
   },
   "outputs": [
    {
     "data": {
      "text/plain": [
       "False"
      ]
     },
     "execution_count": 47,
     "metadata": {},
     "output_type": "execute_result"
    }
   ],
   "source": [
    "a>10"
   ]
  },
  {
   "cell_type": "code",
   "execution_count": 48,
   "id": "3451ae86",
   "metadata": {
    "ExecuteTime": {
     "end_time": "2022-11-08T08:11:52.320800Z",
     "start_time": "2022-11-08T08:11:52.312061Z"
    }
   },
   "outputs": [
    {
     "data": {
      "text/plain": [
       "True"
      ]
     },
     "execution_count": 48,
     "metadata": {},
     "output_type": "execute_result"
    }
   ],
   "source": [
    "a!=11\n",
    "# != means not equal to\n",
    "# == equal to\n",
    "# '''for multiline comment'''"
   ]
  },
  {
   "cell_type": "code",
   "execution_count": 20,
   "id": "c89372bf",
   "metadata": {
    "ExecuteTime": {
     "end_time": "2022-11-08T07:57:41.674191Z",
     "start_time": "2022-11-08T07:57:41.662950Z"
    }
   },
   "outputs": [
    {
     "data": {
      "text/plain": [
       "'Multi line program'"
      ]
     },
     "execution_count": 20,
     "metadata": {},
     "output_type": "execute_result"
    }
   ],
   "source": [
    "'''Multi line program'''"
   ]
  },
  {
   "cell_type": "code",
   "execution_count": 17,
   "id": "078a1667",
   "metadata": {
    "ExecuteTime": {
     "end_time": "2022-11-08T07:53:35.033343Z",
     "start_time": "2022-11-08T07:53:35.026226Z"
    }
   },
   "outputs": [
    {
     "data": {
      "text/plain": [
       "True"
      ]
     },
     "execution_count": 17,
     "metadata": {},
     "output_type": "execute_result"
    }
   ],
   "source": [
    "a==b"
   ]
  },
  {
   "cell_type": "code",
   "execution_count": 18,
   "id": "36868bea",
   "metadata": {
    "ExecuteTime": {
     "end_time": "2022-11-08T07:53:55.085833Z",
     "start_time": "2022-11-08T07:53:55.069104Z"
    }
   },
   "outputs": [
    {
     "data": {
      "text/plain": [
       "False"
      ]
     },
     "execution_count": 18,
     "metadata": {},
     "output_type": "execute_result"
    }
   ],
   "source": [
    "a>b"
   ]
  },
  {
   "cell_type": "code",
   "execution_count": 25,
   "id": "17011c46",
   "metadata": {
    "ExecuteTime": {
     "end_time": "2022-11-08T08:01:21.184031Z",
     "start_time": "2022-11-08T08:01:21.175929Z"
    }
   },
   "outputs": [],
   "source": [
    "x = True"
   ]
  },
  {
   "cell_type": "code",
   "execution_count": 26,
   "id": "183f3573",
   "metadata": {
    "ExecuteTime": {
     "end_time": "2022-11-08T08:01:30.007223Z",
     "start_time": "2022-11-08T08:01:29.993882Z"
    }
   },
   "outputs": [
    {
     "data": {
      "text/plain": [
       "bool"
      ]
     },
     "execution_count": 26,
     "metadata": {},
     "output_type": "execute_result"
    }
   ],
   "source": [
    "type(x)"
   ]
  },
  {
   "cell_type": "code",
   "execution_count": 27,
   "id": "0c9a280b",
   "metadata": {
    "ExecuteTime": {
     "end_time": "2022-11-08T08:01:46.626014Z",
     "start_time": "2022-11-08T08:01:46.613463Z"
    }
   },
   "outputs": [],
   "source": [
    "x = \"sunny\""
   ]
  },
  {
   "cell_type": "code",
   "execution_count": 28,
   "id": "eb927811",
   "metadata": {
    "ExecuteTime": {
     "end_time": "2022-11-08T08:01:54.736960Z",
     "start_time": "2022-11-08T08:01:54.720149Z"
    }
   },
   "outputs": [
    {
     "data": {
      "text/plain": [
       "str"
      ]
     },
     "execution_count": 28,
     "metadata": {},
     "output_type": "execute_result"
    }
   ],
   "source": [
    "type (x)"
   ]
  },
  {
   "cell_type": "code",
   "execution_count": 30,
   "id": "694a7b3d",
   "metadata": {
    "ExecuteTime": {
     "end_time": "2022-11-08T08:02:37.333006Z",
     "start_time": "2022-11-08T08:02:37.328030Z"
    }
   },
   "outputs": [],
   "source": [
    "x = ('hi', 50)"
   ]
  },
  {
   "cell_type": "code",
   "execution_count": 31,
   "id": "6bf2c594",
   "metadata": {
    "ExecuteTime": {
     "end_time": "2022-11-08T08:02:43.924690Z",
     "start_time": "2022-11-08T08:02:43.906592Z"
    }
   },
   "outputs": [
    {
     "data": {
      "text/plain": [
       "tuple"
      ]
     },
     "execution_count": 31,
     "metadata": {},
     "output_type": "execute_result"
    }
   ],
   "source": [
    "type (x)"
   ]
  },
  {
   "cell_type": "code",
   "execution_count": 32,
   "id": "2acc723f",
   "metadata": {
    "ExecuteTime": {
     "end_time": "2022-11-08T08:03:35.407790Z",
     "start_time": "2022-11-08T08:03:35.400640Z"
    }
   },
   "outputs": [],
   "source": [
    "y =10.2"
   ]
  },
  {
   "cell_type": "code",
   "execution_count": 33,
   "id": "75f5570b",
   "metadata": {
    "ExecuteTime": {
     "end_time": "2022-11-08T08:03:45.850048Z",
     "start_time": "2022-11-08T08:03:45.831963Z"
    }
   },
   "outputs": [
    {
     "name": "stdout",
     "output_type": "stream",
     "text": [
      "<class 'float'>\n"
     ]
    }
   ],
   "source": [
    "print(type(y))"
   ]
  },
  {
   "cell_type": "markdown",
   "id": "a5f7882c",
   "metadata": {},
   "source": [
    "# Typecasting\n",
    "\n",
    "- short cut key for heading = Esc + 1"
   ]
  },
  {
   "cell_type": "code",
   "execution_count": 51,
   "id": "0aa03c10",
   "metadata": {
    "ExecuteTime": {
     "end_time": "2022-11-08T08:17:09.858648Z",
     "start_time": "2022-11-08T08:17:09.849033Z"
    }
   },
   "outputs": [],
   "source": [
    "a = float(10)  #convert in to float ...which is called  typecasting"
   ]
  },
  {
   "cell_type": "code",
   "execution_count": 52,
   "id": "329f3f2a",
   "metadata": {
    "ExecuteTime": {
     "end_time": "2022-11-08T08:17:10.079375Z",
     "start_time": "2022-11-08T08:17:10.062269Z"
    }
   },
   "outputs": [
    {
     "data": {
      "text/plain": [
       "10.0"
      ]
     },
     "execution_count": 52,
     "metadata": {},
     "output_type": "execute_result"
    }
   ],
   "source": [
    "a"
   ]
  },
  {
   "cell_type": "code",
   "execution_count": 53,
   "id": "611f361e",
   "metadata": {
    "ExecuteTime": {
     "end_time": "2022-11-08T08:17:10.280905Z",
     "start_time": "2022-11-08T08:17:10.270630Z"
    }
   },
   "outputs": [],
   "source": [
    "a = str(10)"
   ]
  },
  {
   "cell_type": "code",
   "execution_count": 54,
   "id": "219c123e",
   "metadata": {
    "ExecuteTime": {
     "end_time": "2022-11-08T08:17:10.513573Z",
     "start_time": "2022-11-08T08:17:10.493707Z"
    }
   },
   "outputs": [
    {
     "data": {
      "text/plain": [
       "'10'"
      ]
     },
     "execution_count": 54,
     "metadata": {},
     "output_type": "execute_result"
    }
   ],
   "source": [
    "a"
   ]
  },
  {
   "cell_type": "code",
   "execution_count": null,
   "id": "afbba3d8",
   "metadata": {
    "ExecuteTime": {
     "end_time": "2022-11-08T08:14:56.279557Z",
     "start_time": "2022-11-08T08:14:56.262091Z"
    }
   },
   "outputs": [],
   "source": []
  },
  {
   "cell_type": "markdown",
   "id": "dea9f287",
   "metadata": {},
   "source": [
    "# String"
   ]
  },
  {
   "cell_type": "code",
   "execution_count": 99,
   "id": "33371953",
   "metadata": {
    "ExecuteTime": {
     "end_time": "2022-11-08T08:45:08.114435Z",
     "start_time": "2022-11-08T08:45:08.096660Z"
    }
   },
   "outputs": [],
   "source": [
    "s = 'sunny raj'"
   ]
  },
  {
   "cell_type": "code",
   "execution_count": 100,
   "id": "0d7709f3",
   "metadata": {
    "ExecuteTime": {
     "end_time": "2022-11-08T08:45:08.894050Z",
     "start_time": "2022-11-08T08:45:08.871379Z"
    }
   },
   "outputs": [
    {
     "data": {
      "text/plain": [
       "'Sunny raj'"
      ]
     },
     "execution_count": 100,
     "metadata": {},
     "output_type": "execute_result"
    }
   ],
   "source": [
    "s.capitalize()  "
   ]
  },
  {
   "cell_type": "code",
   "execution_count": 101,
   "id": "76c7ed4f",
   "metadata": {
    "ExecuteTime": {
     "end_time": "2022-11-08T08:45:09.436454Z",
     "start_time": "2022-11-08T08:45:09.422646Z"
    }
   },
   "outputs": [
    {
     "data": {
      "text/plain": [
       "'go in to bracket and press shift+tab \\n   to know what is the use  of command.'"
      ]
     },
     "execution_count": 101,
     "metadata": {},
     "output_type": "execute_result"
    }
   ],
   "source": [
    "'''go in to bracket and press shift+tab \n",
    "   to know what is the use  of command.'''"
   ]
  },
  {
   "cell_type": "code",
   "execution_count": 102,
   "id": "e5ed36e7",
   "metadata": {
    "ExecuteTime": {
     "end_time": "2022-11-08T08:45:09.649856Z",
     "start_time": "2022-11-08T08:45:09.634132Z"
    }
   },
   "outputs": [
    {
     "data": {
      "text/plain": [
       "1"
      ]
     },
     "execution_count": 102,
     "metadata": {},
     "output_type": "execute_result"
    }
   ],
   "source": [
    "s.count ('u')"
   ]
  },
  {
   "cell_type": "code",
   "execution_count": 103,
   "id": "7ebfacdf",
   "metadata": {
    "ExecuteTime": {
     "end_time": "2022-11-08T08:45:09.836832Z",
     "start_time": "2022-11-08T08:45:09.830359Z"
    }
   },
   "outputs": [
    {
     "data": {
      "text/plain": [
       "False"
      ]
     },
     "execution_count": 103,
     "metadata": {},
     "output_type": "execute_result"
    }
   ],
   "source": [
    "s.endswith('y') "
   ]
  },
  {
   "cell_type": "code",
   "execution_count": 104,
   "id": "96ca8e1a",
   "metadata": {
    "ExecuteTime": {
     "end_time": "2022-11-08T08:45:10.038508Z",
     "start_time": "2022-11-08T08:45:10.027698Z"
    }
   },
   "outputs": [
    {
     "data": {
      "text/plain": [
       "2"
      ]
     },
     "execution_count": 104,
     "metadata": {},
     "output_type": "execute_result"
    }
   ],
   "source": [
    "s.index ('n') # index =  position no"
   ]
  },
  {
   "cell_type": "code",
   "execution_count": 105,
   "id": "834e5d09",
   "metadata": {
    "ExecuteTime": {
     "end_time": "2022-11-08T08:45:10.239508Z",
     "start_time": "2022-11-08T08:45:10.224344Z"
    }
   },
   "outputs": [
    {
     "data": {
      "text/plain": [
       "'s-u-n-n-y- -r-a-j'"
      ]
     },
     "execution_count": 105,
     "metadata": {},
     "output_type": "execute_result"
    }
   ],
   "source": [
    "'-'.join (s)"
   ]
  },
  {
   "cell_type": "code",
   "execution_count": 106,
   "id": "b2f5096b",
   "metadata": {
    "ExecuteTime": {
     "end_time": "2022-11-08T08:45:10.409725Z",
     "start_time": "2022-11-08T08:45:10.401459Z"
    }
   },
   "outputs": [
    {
     "data": {
      "text/plain": [
       "'sunny-raj'"
      ]
     },
     "execution_count": 106,
     "metadata": {},
     "output_type": "execute_result"
    }
   ],
   "source": [
    "s.replace (' ','-') #replace space with - "
   ]
  },
  {
   "cell_type": "code",
   "execution_count": 107,
   "id": "6c104980",
   "metadata": {
    "ExecuteTime": {
     "end_time": "2022-11-08T08:45:10.609354Z",
     "start_time": "2022-11-08T08:45:10.593856Z"
    }
   },
   "outputs": [
    {
     "data": {
      "text/plain": [
       "'SUNNY RAJ'"
      ]
     },
     "execution_count": 107,
     "metadata": {},
     "output_type": "execute_result"
    }
   ],
   "source": [
    "s.swapcase()"
   ]
  },
  {
   "cell_type": "code",
   "execution_count": 111,
   "id": "031c17ac",
   "metadata": {
    "ExecuteTime": {
     "end_time": "2022-11-08T08:47:18.293662Z",
     "start_time": "2022-11-08T08:47:18.271647Z"
    }
   },
   "outputs": [
    {
     "data": {
      "text/plain": [
       "['s', 'nny raj']"
      ]
     },
     "execution_count": 111,
     "metadata": {},
     "output_type": "execute_result"
    }
   ],
   "source": [
    "s.split ('u')"
   ]
  },
  {
   "cell_type": "code",
   "execution_count": 112,
   "id": "69da7327",
   "metadata": {
    "ExecuteTime": {
     "end_time": "2022-11-08T08:48:53.081849Z",
     "start_time": "2022-11-08T08:48:53.075869Z"
    }
   },
   "outputs": [],
   "source": [
    "m = 'We are learning'"
   ]
  },
  {
   "cell_type": "code",
   "execution_count": 123,
   "id": "353b2c42",
   "metadata": {
    "ExecuteTime": {
     "end_time": "2022-11-08T08:53:44.439668Z",
     "start_time": "2022-11-08T08:53:44.428807Z"
    }
   },
   "outputs": [
    {
     "data": {
      "text/plain": [
       "'We are learning'"
      ]
     },
     "execution_count": 123,
     "metadata": {},
     "output_type": "execute_result"
    }
   ],
   "source": [
    "m"
   ]
  },
  {
   "cell_type": "code",
   "execution_count": 124,
   "id": "6b693a0d",
   "metadata": {
    "ExecuteTime": {
     "end_time": "2022-11-08T08:53:44.828431Z",
     "start_time": "2022-11-08T08:53:44.810426Z"
    }
   },
   "outputs": [
    {
     "data": {
      "text/plain": [
       "'WE ARE LEARNING'"
      ]
     },
     "execution_count": 124,
     "metadata": {},
     "output_type": "execute_result"
    }
   ],
   "source": [
    "m.upper()"
   ]
  },
  {
   "cell_type": "code",
   "execution_count": 125,
   "id": "f22c0f07",
   "metadata": {
    "ExecuteTime": {
     "end_time": "2022-11-08T08:53:45.015044Z",
     "start_time": "2022-11-08T08:53:44.998431Z"
    }
   },
   "outputs": [
    {
     "data": {
      "text/plain": [
       "'we are learning'"
      ]
     },
     "execution_count": 125,
     "metadata": {},
     "output_type": "execute_result"
    }
   ],
   "source": [
    "m.lower()"
   ]
  },
  {
   "cell_type": "code",
   "execution_count": 126,
   "id": "50173e6d",
   "metadata": {
    "ExecuteTime": {
     "end_time": "2022-11-08T08:53:45.217402Z",
     "start_time": "2022-11-08T08:53:45.203579Z"
    }
   },
   "outputs": [
    {
     "data": {
      "text/plain": [
       "'wE ARE LEARNING'"
      ]
     },
     "execution_count": 126,
     "metadata": {},
     "output_type": "execute_result"
    }
   ],
   "source": [
    "m.swapcase()"
   ]
  },
  {
   "cell_type": "code",
   "execution_count": 128,
   "id": "8ccb8cbe",
   "metadata": {
    "ExecuteTime": {
     "end_time": "2022-11-08T08:53:59.864873Z",
     "start_time": "2022-11-08T08:53:59.856324Z"
    }
   },
   "outputs": [
    {
     "data": {
      "text/plain": [
       "4"
      ]
     },
     "execution_count": 128,
     "metadata": {},
     "output_type": "execute_result"
    }
   ],
   "source": [
    "m.index ('r')"
   ]
  },
  {
   "cell_type": "code",
   "execution_count": 129,
   "id": "326a16fa",
   "metadata": {
    "ExecuteTime": {
     "end_time": "2022-11-08T08:57:17.825172Z",
     "start_time": "2022-11-08T08:57:17.812645Z"
    }
   },
   "outputs": [
    {
     "data": {
      "text/plain": [
       "'We-are-learning'"
      ]
     },
     "execution_count": 129,
     "metadata": {},
     "output_type": "execute_result"
    }
   ],
   "source": [
    "m.replace(' ','-')"
   ]
  },
  {
   "cell_type": "code",
   "execution_count": 130,
   "id": "c921dbfa",
   "metadata": {
    "ExecuteTime": {
     "end_time": "2022-11-08T09:01:38.625264Z",
     "start_time": "2022-11-08T09:01:38.615533Z"
    }
   },
   "outputs": [
    {
     "data": {
      "text/plain": [
       "'They are learning'"
      ]
     },
     "execution_count": 130,
     "metadata": {},
     "output_type": "execute_result"
    }
   ],
   "source": [
    "m.replace('We', 'They')"
   ]
  },
  {
   "cell_type": "code",
   "execution_count": null,
   "id": "3163fe8a",
   "metadata": {},
   "outputs": [],
   "source": []
  },
  {
   "cell_type": "code",
   "execution_count": 10,
   "id": "e5de162a",
   "metadata": {},
   "outputs": [],
   "source": [
    "name = 'Sunnyraj Dadaji Aher'"
   ]
  },
  {
   "cell_type": "code",
   "execution_count": 11,
   "id": "d7f949ee",
   "metadata": {},
   "outputs": [
    {
     "data": {
      "text/plain": [
       "'S*u*n*n*y*r*a*j* *D*a*d*a*j*i* *A*h*e*r'"
      ]
     },
     "execution_count": 11,
     "metadata": {},
     "output_type": "execute_result"
    }
   ],
   "source": [
    "'*'.join(name)"
   ]
  },
  {
   "cell_type": "code",
   "execution_count": 13,
   "id": "f4f2433f",
   "metadata": {},
   "outputs": [
    {
     "data": {
      "text/plain": [
       "'S_u_n_n_y_r_a_j_ _D_a_d_a_j_i_ _A_h_e_r'"
      ]
     },
     "execution_count": 13,
     "metadata": {},
     "output_type": "execute_result"
    }
   ],
   "source": [
    "'_'.join(name)"
   ]
  },
  {
   "cell_type": "code",
   "execution_count": 14,
   "id": "f7077232",
   "metadata": {},
   "outputs": [
    {
     "data": {
      "text/plain": [
       "'Sunnyraj-Dadaji-Aher'"
      ]
     },
     "execution_count": 14,
     "metadata": {},
     "output_type": "execute_result"
    }
   ],
   "source": [
    "name.replace(' ', '-')"
   ]
  },
  {
   "cell_type": "code",
   "execution_count": 15,
   "id": "4a333c48",
   "metadata": {},
   "outputs": [
    {
     "data": {
      "text/plain": [
       "'Sunnyraj dadaji aher'"
      ]
     },
     "execution_count": 15,
     "metadata": {},
     "output_type": "execute_result"
    }
   ],
   "source": [
    "name.capitalize()"
   ]
  },
  {
   "cell_type": "code",
   "execution_count": 16,
   "id": "6c76df0b",
   "metadata": {},
   "outputs": [],
   "source": [
    "a = \"It's a sunny\""
   ]
  },
  {
   "cell_type": "code",
   "execution_count": 17,
   "id": "d7cb9ef8",
   "metadata": {},
   "outputs": [
    {
     "data": {
      "text/plain": [
       "\"It's a sunny\""
      ]
     },
     "execution_count": 17,
     "metadata": {},
     "output_type": "execute_result"
    }
   ],
   "source": [
    "a"
   ]
  },
  {
   "cell_type": "code",
   "execution_count": null,
   "id": "0a8a72dc",
   "metadata": {},
   "outputs": [],
   "source": []
  }
 ],
 "metadata": {
  "kernelspec": {
   "display_name": "Python 3 (ipykernel)",
   "language": "python",
   "name": "python3"
  },
  "language_info": {
   "codemirror_mode": {
    "name": "ipython",
    "version": 3
   },
   "file_extension": ".py",
   "mimetype": "text/x-python",
   "name": "python",
   "nbconvert_exporter": "python",
   "pygments_lexer": "ipython3",
   "version": "3.9.13"
  }
 },
 "nbformat": 4,
 "nbformat_minor": 5
}
