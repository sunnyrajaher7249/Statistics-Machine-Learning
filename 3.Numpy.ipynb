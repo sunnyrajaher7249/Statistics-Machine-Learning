{
 "cells": [
  {
   "cell_type": "markdown",
   "id": "fb033749",
   "metadata": {},
   "source": [
    "# Numpy\n",
    " + Numpy is a general purpose array processing package\n",
    " + It is open source library.\n",
    " + In python we have lists that serves the purpose of arrays, but they are slow to process\n",
    " + Numpy aims to provide an array object that is up to 50% faster than traditional python list"
   ]
  },
  {
   "cell_type": "code",
   "execution_count": 1,
   "id": "219f848c",
   "metadata": {},
   "outputs": [
    {
     "name": "stdout",
     "output_type": "stream",
     "text": [
      "Requirement already satisfied: numpy in c:\\users\\sunny\\anaconda3\\lib\\site-packages (1.21.5)\n"
     ]
    }
   ],
   "source": [
    "!pip install numpy"
   ]
  },
  {
   "cell_type": "code",
   "execution_count": 5,
   "id": "43b3dce4",
   "metadata": {},
   "outputs": [],
   "source": [
    "import numpy as np"
   ]
  },
  {
   "cell_type": "code",
   "execution_count": 6,
   "id": "bfa6cb8b",
   "metadata": {},
   "outputs": [],
   "source": [
    "#Array creation"
   ]
  },
  {
   "cell_type": "code",
   "execution_count": 7,
   "id": "6e9b4a97",
   "metadata": {},
   "outputs": [
    {
     "name": "stdout",
     "output_type": "stream",
     "text": [
      "[1 2 3 4 5]\n"
     ]
    },
    {
     "data": {
      "text/plain": [
       "1"
      ]
     },
     "execution_count": 7,
     "metadata": {},
     "output_type": "execute_result"
    }
   ],
   "source": [
    "a = np.array([1,2,3,4,5])\n",
    "print (a)\n",
    "type(a)\n",
    "a.ndim"
   ]
  },
  {
   "cell_type": "code",
   "execution_count": 8,
   "id": "a5afdc7c",
   "metadata": {},
   "outputs": [],
   "source": [
    "#Zero dimensional array\n"
   ]
  },
  {
   "cell_type": "code",
   "execution_count": 9,
   "id": "6793d9e7",
   "metadata": {},
   "outputs": [],
   "source": [
    "z = np.array(10)"
   ]
  },
  {
   "cell_type": "code",
   "execution_count": 10,
   "id": "ed43e92d",
   "metadata": {},
   "outputs": [
    {
     "data": {
      "text/plain": [
       "1"
      ]
     },
     "execution_count": 10,
     "metadata": {},
     "output_type": "execute_result"
    }
   ],
   "source": [
    "a = np.array([1,2,3,4,5])\n",
    "a.ndim"
   ]
  },
  {
   "cell_type": "code",
   "execution_count": 11,
   "id": "de900ef9",
   "metadata": {},
   "outputs": [
    {
     "data": {
      "text/plain": [
       "2"
      ]
     },
     "execution_count": 11,
     "metadata": {},
     "output_type": "execute_result"
    }
   ],
   "source": [
    "t = np.array([[1,2,3,4,5]]) #If bracket is two then it is 2dimensional, if it 3 bracket then it is 3 dim\n",
    "t.ndim"
   ]
  },
  {
   "cell_type": "code",
   "execution_count": 12,
   "id": "b482e3a3",
   "metadata": {},
   "outputs": [
    {
     "name": "stdout",
     "output_type": "stream",
     "text": [
      "[[[1 2 3 4 5]]]\n",
      "3\n"
     ]
    }
   ],
   "source": [
    "b = np.array([[[1,2,3,4,5]]])\n",
    "print(b)\n",
    "print(b.ndim)"
   ]
  },
  {
   "cell_type": "code",
   "execution_count": 13,
   "id": "f342a271",
   "metadata": {},
   "outputs": [],
   "source": [
    "#Change data type"
   ]
  },
  {
   "cell_type": "code",
   "execution_count": 14,
   "id": "8a3377fc",
   "metadata": {},
   "outputs": [
    {
     "data": {
      "text/plain": [
       "array([[1., 2., 3., 4.]])"
      ]
     },
     "execution_count": 14,
     "metadata": {},
     "output_type": "execute_result"
    }
   ],
   "source": [
    "a = np.array([[1,2,3,4]], dtype = 'float')\n",
    "a"
   ]
  },
  {
   "cell_type": "code",
   "execution_count": 15,
   "id": "60dfc90b",
   "metadata": {},
   "outputs": [
    {
     "data": {
      "text/plain": [
       "array([['1', '2', '3', '4']], dtype='<U1')"
      ]
     },
     "execution_count": 15,
     "metadata": {},
     "output_type": "execute_result"
    }
   ],
   "source": [
    "a = np.array([[1,2,3,4]], dtype = 'str')\n",
    "a"
   ]
  },
  {
   "cell_type": "markdown",
   "id": "2476d84c",
   "metadata": {},
   "source": [
    "### Other ways of creating an array\n",
    "1. arange\n",
    "2. linspace\n",
    "3. zeros\n",
    "3. ones"
   ]
  },
  {
   "cell_type": "code",
   "execution_count": 16,
   "id": "c65d1cce",
   "metadata": {},
   "outputs": [],
   "source": [
    "a = np.arange(10,20)"
   ]
  },
  {
   "cell_type": "code",
   "execution_count": 17,
   "id": "a466a77e",
   "metadata": {},
   "outputs": [
    {
     "data": {
      "text/plain": [
       "array([10, 11, 12, 13, 14, 15, 16, 17, 18, 19])"
      ]
     },
     "execution_count": 17,
     "metadata": {},
     "output_type": "execute_result"
    }
   ],
   "source": [
    "a"
   ]
  },
  {
   "cell_type": "code",
   "execution_count": 18,
   "id": "df4dbfb2",
   "metadata": {},
   "outputs": [],
   "source": [
    "b = np.linspace(1, 20, 25) # Values is to be evenly spaced"
   ]
  },
  {
   "cell_type": "code",
   "execution_count": 19,
   "id": "6f3c744f",
   "metadata": {},
   "outputs": [
    {
     "data": {
      "text/plain": [
       "array([ 1.        ,  1.79166667,  2.58333333,  3.375     ,  4.16666667,\n",
       "        4.95833333,  5.75      ,  6.54166667,  7.33333333,  8.125     ,\n",
       "        8.91666667,  9.70833333, 10.5       , 11.29166667, 12.08333333,\n",
       "       12.875     , 13.66666667, 14.45833333, 15.25      , 16.04166667,\n",
       "       16.83333333, 17.625     , 18.41666667, 19.20833333, 20.        ])"
      ]
     },
     "execution_count": 19,
     "metadata": {},
     "output_type": "execute_result"
    }
   ],
   "source": [
    "b"
   ]
  },
  {
   "cell_type": "code",
   "execution_count": 20,
   "id": "bf822ece",
   "metadata": {},
   "outputs": [],
   "source": [
    "c = np.linspace(1, 20, 25, retstep= True)"
   ]
  },
  {
   "cell_type": "code",
   "execution_count": 21,
   "id": "b4f8a746",
   "metadata": {},
   "outputs": [
    {
     "data": {
      "text/plain": [
       "(array([ 1.        ,  1.79166667,  2.58333333,  3.375     ,  4.16666667,\n",
       "         4.95833333,  5.75      ,  6.54166667,  7.33333333,  8.125     ,\n",
       "         8.91666667,  9.70833333, 10.5       , 11.29166667, 12.08333333,\n",
       "        12.875     , 13.66666667, 14.45833333, 15.25      , 16.04166667,\n",
       "        16.83333333, 17.625     , 18.41666667, 19.20833333, 20.        ]),\n",
       " 0.7916666666666666)"
      ]
     },
     "execution_count": 21,
     "metadata": {},
     "output_type": "execute_result"
    }
   ],
   "source": [
    "c"
   ]
  },
  {
   "cell_type": "code",
   "execution_count": 22,
   "id": "0ee509a8",
   "metadata": {},
   "outputs": [
    {
     "data": {
      "text/plain": [
       "array([[0., 0., 0., 0.],\n",
       "       [0., 0., 0., 0.]])"
      ]
     },
     "execution_count": 22,
     "metadata": {},
     "output_type": "execute_result"
    }
   ],
   "source": [
    "d = np.zeros([2,4])\n",
    "d"
   ]
  },
  {
   "cell_type": "code",
   "execution_count": 25,
   "id": "635f5d73",
   "metadata": {},
   "outputs": [
    {
     "data": {
      "text/plain": [
       "array([[0., 0.],\n",
       "       [0., 0.]])"
      ]
     },
     "execution_count": 25,
     "metadata": {},
     "output_type": "execute_result"
    }
   ],
   "source": [
    "m = np.zeros([2,2])\n",
    "m"
   ]
  },
  {
   "cell_type": "markdown",
   "id": "9507cc25",
   "metadata": {},
   "source": [
    "### Slicing and indexing of arrays"
   ]
  },
  {
   "cell_type": "code",
   "execution_count": 51,
   "id": "9a19f3a1",
   "metadata": {},
   "outputs": [],
   "source": [
    "a = np.array([[1,2,3],[7,8,9]])"
   ]
  },
  {
   "cell_type": "code",
   "execution_count": 52,
   "id": "dabe70d0",
   "metadata": {},
   "outputs": [
    {
     "data": {
      "text/plain": [
       "array([[1, 2, 3],\n",
       "       [7, 8, 9]])"
      ]
     },
     "execution_count": 52,
     "metadata": {},
     "output_type": "execute_result"
    }
   ],
   "source": [
    "a"
   ]
  },
  {
   "cell_type": "code",
   "execution_count": 59,
   "id": "20248699",
   "metadata": {},
   "outputs": [
    {
     "data": {
      "text/plain": [
       "1"
      ]
     },
     "execution_count": 59,
     "metadata": {},
     "output_type": "execute_result"
    }
   ],
   "source": [
    "a [0,0]    #[row,col]"
   ]
  },
  {
   "cell_type": "code",
   "execution_count": 60,
   "id": "144f7f9c",
   "metadata": {},
   "outputs": [
    {
     "data": {
      "text/plain": [
       "9"
      ]
     },
     "execution_count": 60,
     "metadata": {},
     "output_type": "execute_result"
    }
   ],
   "source": [
    "a [1,2]            "
   ]
  },
  {
   "cell_type": "code",
   "execution_count": 61,
   "id": "2a997764",
   "metadata": {},
   "outputs": [
    {
     "data": {
      "text/plain": [
       "array([[2, 3],\n",
       "       [8, 9]])"
      ]
     },
     "execution_count": 61,
     "metadata": {},
     "output_type": "execute_result"
    }
   ],
   "source": [
    "a[:,1:]"
   ]
  },
  {
   "cell_type": "code",
   "execution_count": 58,
   "id": "b7481b7d",
   "metadata": {},
   "outputs": [
    {
     "data": {
      "text/plain": [
       "array([2, 3])"
      ]
     },
     "execution_count": 58,
     "metadata": {},
     "output_type": "execute_result"
    }
   ],
   "source": [
    "a [0,1:]"
   ]
  },
  {
   "cell_type": "code",
   "execution_count": 62,
   "id": "6fffabbb",
   "metadata": {},
   "outputs": [
    {
     "data": {
      "text/plain": [
       "array([8, 9])"
      ]
     },
     "execution_count": 62,
     "metadata": {},
     "output_type": "execute_result"
    }
   ],
   "source": [
    "a [1,1:]"
   ]
  },
  {
   "cell_type": "markdown",
   "id": "f5422af7",
   "metadata": {},
   "source": [
    "### Aggregate fun"
   ]
  },
  {
   "cell_type": "code",
   "execution_count": 67,
   "id": "0ae70c7c",
   "metadata": {},
   "outputs": [],
   "source": [
    "a = np.array([1,2,3,4,5])"
   ]
  },
  {
   "cell_type": "code",
   "execution_count": 68,
   "id": "7091cb98",
   "metadata": {},
   "outputs": [
    {
     "data": {
      "text/plain": [
       "15"
      ]
     },
     "execution_count": 68,
     "metadata": {},
     "output_type": "execute_result"
    }
   ],
   "source": [
    "a.sum()"
   ]
  },
  {
   "cell_type": "code",
   "execution_count": 69,
   "id": "e805e697",
   "metadata": {},
   "outputs": [
    {
     "data": {
      "text/plain": [
       "1"
      ]
     },
     "execution_count": 69,
     "metadata": {},
     "output_type": "execute_result"
    }
   ],
   "source": [
    "a.min()"
   ]
  },
  {
   "cell_type": "code",
   "execution_count": 70,
   "id": "a191e95f",
   "metadata": {},
   "outputs": [
    {
     "data": {
      "text/plain": [
       "5"
      ]
     },
     "execution_count": 70,
     "metadata": {},
     "output_type": "execute_result"
    }
   ],
   "source": [
    "a.max()"
   ]
  },
  {
   "cell_type": "code",
   "execution_count": 71,
   "id": "65b0e439",
   "metadata": {},
   "outputs": [
    {
     "data": {
      "text/plain": [
       "1.4142135623730951"
      ]
     },
     "execution_count": 71,
     "metadata": {},
     "output_type": "execute_result"
    }
   ],
   "source": [
    "a.std()"
   ]
  },
  {
   "cell_type": "code",
   "execution_count": 72,
   "id": "6bb81abd",
   "metadata": {},
   "outputs": [
    {
     "data": {
      "text/plain": [
       "3.0"
      ]
     },
     "execution_count": 72,
     "metadata": {},
     "output_type": "execute_result"
    }
   ],
   "source": [
    "a.mean()"
   ]
  },
  {
   "cell_type": "markdown",
   "id": "68911f9e",
   "metadata": {},
   "source": [
    "### Stacking\n",
    "\n",
    "+ It is uded to join 3 different arrays\n",
    "+ vertical and horizontal array"
   ]
  },
  {
   "cell_type": "code",
   "execution_count": 73,
   "id": "d0a61106",
   "metadata": {},
   "outputs": [],
   "source": [
    "a = np.array([1,2,3])\n",
    "b = np.array([4,5,6])"
   ]
  },
  {
   "cell_type": "code",
   "execution_count": 74,
   "id": "ebb03355",
   "metadata": {},
   "outputs": [],
   "source": [
    "c = np.vstack([a,b])"
   ]
  },
  {
   "cell_type": "code",
   "execution_count": 75,
   "id": "fcef3ed9",
   "metadata": {},
   "outputs": [
    {
     "data": {
      "text/plain": [
       "array([[1, 2, 3],\n",
       "       [4, 5, 6]])"
      ]
     },
     "execution_count": 75,
     "metadata": {},
     "output_type": "execute_result"
    }
   ],
   "source": [
    "c"
   ]
  },
  {
   "cell_type": "code",
   "execution_count": 77,
   "id": "91bdfd8c",
   "metadata": {},
   "outputs": [],
   "source": [
    "d = np.hstack([a,b])"
   ]
  },
  {
   "cell_type": "code",
   "execution_count": 78,
   "id": "20069a3a",
   "metadata": {},
   "outputs": [
    {
     "data": {
      "text/plain": [
       "array([1, 2, 3, 4, 5, 6])"
      ]
     },
     "execution_count": 78,
     "metadata": {},
     "output_type": "execute_result"
    }
   ],
   "source": [
    "d"
   ]
  },
  {
   "cell_type": "code",
   "execution_count": null,
   "id": "532f8628",
   "metadata": {},
   "outputs": [],
   "source": []
  }
 ],
 "metadata": {
  "kernelspec": {
   "display_name": "Python 3 (ipykernel)",
   "language": "python",
   "name": "python3"
  },
  "language_info": {
   "codemirror_mode": {
    "name": "ipython",
    "version": 3
   },
   "file_extension": ".py",
   "mimetype": "text/x-python",
   "name": "python",
   "nbconvert_exporter": "python",
   "pygments_lexer": "ipython3",
   "version": "3.9.13"
  }
 },
 "nbformat": 4,
 "nbformat_minor": 5
}
