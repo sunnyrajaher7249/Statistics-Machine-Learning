{
 "cells": [
  {
   "cell_type": "markdown",
   "id": "994399b5",
   "metadata": {},
   "source": [
    "# One tail test"
   ]
  },
  {
   "cell_type": "code",
   "execution_count": 30,
   "id": "16051fc3",
   "metadata": {},
   "outputs": [],
   "source": [
    "\n",
    "import scipy\n",
    "from scipy import stats\n",
    "import pandas as pd\n",
    "import numpy as np\n"
   ]
  },
  {
   "cell_type": "markdown",
   "id": "371a4609",
   "metadata": {},
   "source": [
    " - An outbreak of Salmonella- related illness was attributed to ice cream produced at a certain factory. Scientist measured the level of Salmonella in 9 randomly sampled batchs of ice cream. the levels (in MPN/g) were\n",
    " \n",
    "    0.593, 0.142, 0.329, 0.691, 0.231, 0.793, 0.519, 0.392, 0.418\n",
    "    \n",
    " \n",
    " - Is there evidence that the mean level of salmonella in ice cream is greater than 0.3 MPN/g ?"
   ]
  },
  {
   "cell_type": "code",
   "execution_count": 36,
   "id": "3d4af997",
   "metadata": {},
   "outputs": [],
   "source": [
    "data = pd.Series([0.593, 0.142, 0.329, 0.691, 0.231, 0.793, 0.519, 0.392, 0.418])"
   ]
  },
  {
   "cell_type": "code",
   "execution_count": 37,
   "id": "e85712b8",
   "metadata": {},
   "outputs": [
    {
     "data": {
      "text/plain": [
       "Ttest_1sampResult(statistic=2.2050588385131595, pvalue=0.05853032968489765)"
      ]
     },
     "execution_count": 37,
     "metadata": {},
     "output_type": "execute_result"
    }
   ],
   "source": [
    "\n",
    "scipy.stats.ttest_1samp(data, 0.3)  # u(mean) = 0.3"
   ]
  },
  {
   "cell_type": "code",
   "execution_count": 43,
   "id": "6a3b7e03",
   "metadata": {},
   "outputs": [
    {
     "data": {
      "text/plain": [
       "0.029265164842448826"
      ]
     },
     "execution_count": 43,
     "metadata": {},
     "output_type": "execute_result"
    }
   ],
   "source": [
    "# this gives two tail test p value so divide by 2 \n",
    "s, p = scipy.stats.ttest_1samp(data, 0.3)\n",
    "p_value = p/2\n",
    "p_value"
   ]
  },
  {
   "cell_type": "code",
   "execution_count": 44,
   "id": "5f29c76f",
   "metadata": {},
   "outputs": [
    {
     "data": {
      "text/plain": [
       "0.05853032968489765"
      ]
     },
     "execution_count": 44,
     "metadata": {},
     "output_type": "execute_result"
    }
   ],
   "source": [
    "p"
   ]
  },
  {
   "cell_type": "markdown",
   "id": "48490caa",
   "metadata": {},
   "source": [
    "- p is 0.029, alpha = 0.05\n",
    "- so p < alpha = Reject H0 (null hypothesis)\n",
    "- so there is increase in salmonella"
   ]
  },
  {
   "cell_type": "markdown",
   "id": "92d3a7f5",
   "metadata": {},
   "source": [
    "# Two tail test"
   ]
  },
  {
   "cell_type": "code",
   "execution_count": 45,
   "id": "dab6a67a",
   "metadata": {},
   "outputs": [],
   "source": [
    "Control = pd.Series ([91, 87, 99, 77, 88, 91])\n",
    "Treat = pd.Series ([101, 110, 103, 93, 99, 104])"
   ]
  },
  {
   "cell_type": "code",
   "execution_count": 46,
   "id": "9f362790",
   "metadata": {},
   "outputs": [
    {
     "data": {
      "text/plain": [
       "Ttest_indResult(statistic=-3.4456126735364876, pvalue=0.006272124350809803)"
      ]
     },
     "execution_count": 46,
     "metadata": {},
     "output_type": "execute_result"
    }
   ],
   "source": [
    "stats.ttest_ind(Control, Treat)"
   ]
  },
  {
   "cell_type": "code",
   "execution_count": 47,
   "id": "f485c99b",
   "metadata": {},
   "outputs": [],
   "source": [
    "Cont = (91, 87, 99, 77, 88, 91)\n",
    "Tr = (101, 110, 103, 93, 99, 104)"
   ]
  },
  {
   "cell_type": "code",
   "execution_count": 49,
   "id": "43f24011",
   "metadata": {},
   "outputs": [
    {
     "data": {
      "text/plain": [
       "Ttest_indResult(statistic=-3.4456126735364876, pvalue=0.006272124350809803)"
      ]
     },
     "execution_count": 49,
     "metadata": {},
     "output_type": "execute_result"
    }
   ],
   "source": [
    "stats.ttest_ind(Cont, Tr)"
   ]
  },
  {
   "cell_type": "markdown",
   "id": "8107c02f",
   "metadata": {},
   "source": [
    "- p is 0.006 and alpha is 0.05\n",
    "- so p < aplha\n",
    "- Reject Null Hypothesis"
   ]
  },
  {
   "cell_type": "code",
   "execution_count": null,
   "id": "4ddf12ec",
   "metadata": {},
   "outputs": [],
   "source": []
  },
  {
   "cell_type": "code",
   "execution_count": null,
   "id": "02d24351",
   "metadata": {},
   "outputs": [],
   "source": []
  }
 ],
 "metadata": {
  "kernelspec": {
   "display_name": "Python 3 (ipykernel)",
   "language": "python",
   "name": "python3"
  },
  "language_info": {
   "codemirror_mode": {
    "name": "ipython",
    "version": 3
   },
   "file_extension": ".py",
   "mimetype": "text/x-python",
   "name": "python",
   "nbconvert_exporter": "python",
   "pygments_lexer": "ipython3",
   "version": "3.9.13"
  }
 },
 "nbformat": 4,
 "nbformat_minor": 5
}
