{
 "cells": [
  {
   "cell_type": "markdown",
   "id": "def52e45",
   "metadata": {},
   "source": [
    "# Problem Statement:\n",
    "- Goal is to create a model which will be able to predict all positive class as positive only."
   ]
  },
  {
   "cell_type": "code",
   "execution_count": 1,
   "id": "a468fc22",
   "metadata": {
    "ExecuteTime": {
     "end_time": "2023-04-17T04:45:01.905771Z",
     "start_time": "2023-04-17T04:44:54.397806Z"
    }
   },
   "outputs": [],
   "source": [
    "#import libraries\n",
    "import pandas as pd\n",
    "import numpy as np\n",
    "import seaborn as sns\n",
    "import matplotlib.pyplot as plt\n",
    "plt.rcParams['figure.figsize'] = (10,5)\n",
    "plt.rcParams['figure.dpi'] = 250\n",
    "import warnings\n",
    "warnings.filterwarnings('ignore')\n",
    "%matplotlib inline"
   ]
  },
  {
   "cell_type": "code",
   "execution_count": 2,
   "id": "e8929991",
   "metadata": {
    "ExecuteTime": {
     "end_time": "2023-04-17T04:45:03.084698Z",
     "start_time": "2023-04-17T04:45:02.404513Z"
    }
   },
   "outputs": [
    {
     "data": {
      "text/html": [
       "<div>\n",
       "<style scoped>\n",
       "    .dataframe tbody tr th:only-of-type {\n",
       "        vertical-align: middle;\n",
       "    }\n",
       "\n",
       "    .dataframe tbody tr th {\n",
       "        vertical-align: top;\n",
       "    }\n",
       "\n",
       "    .dataframe thead th {\n",
       "        text-align: right;\n",
       "    }\n",
       "</style>\n",
       "<table border=\"1\" class=\"dataframe\">\n",
       "  <thead>\n",
       "    <tr style=\"text-align: right;\">\n",
       "      <th></th>\n",
       "      <th>CASENUM</th>\n",
       "      <th>ATTORNEY</th>\n",
       "      <th>CLMSEX</th>\n",
       "      <th>CLMINSUR</th>\n",
       "      <th>SEATBELT</th>\n",
       "      <th>CLMAGE</th>\n",
       "      <th>LOSS</th>\n",
       "    </tr>\n",
       "  </thead>\n",
       "  <tbody>\n",
       "    <tr>\n",
       "      <th>0</th>\n",
       "      <td>5</td>\n",
       "      <td>1</td>\n",
       "      <td>0.0</td>\n",
       "      <td>1.0</td>\n",
       "      <td>0.0</td>\n",
       "      <td>50.0</td>\n",
       "      <td>34.940</td>\n",
       "    </tr>\n",
       "    <tr>\n",
       "      <th>1</th>\n",
       "      <td>3</td>\n",
       "      <td>0</td>\n",
       "      <td>1.0</td>\n",
       "      <td>0.0</td>\n",
       "      <td>0.0</td>\n",
       "      <td>18.0</td>\n",
       "      <td>0.891</td>\n",
       "    </tr>\n",
       "    <tr>\n",
       "      <th>2</th>\n",
       "      <td>66</td>\n",
       "      <td>0</td>\n",
       "      <td>0.0</td>\n",
       "      <td>1.0</td>\n",
       "      <td>0.0</td>\n",
       "      <td>5.0</td>\n",
       "      <td>0.330</td>\n",
       "    </tr>\n",
       "    <tr>\n",
       "      <th>3</th>\n",
       "      <td>70</td>\n",
       "      <td>1</td>\n",
       "      <td>0.0</td>\n",
       "      <td>1.0</td>\n",
       "      <td>1.0</td>\n",
       "      <td>31.0</td>\n",
       "      <td>0.037</td>\n",
       "    </tr>\n",
       "    <tr>\n",
       "      <th>4</th>\n",
       "      <td>96</td>\n",
       "      <td>0</td>\n",
       "      <td>0.0</td>\n",
       "      <td>1.0</td>\n",
       "      <td>0.0</td>\n",
       "      <td>30.0</td>\n",
       "      <td>0.038</td>\n",
       "    </tr>\n",
       "    <tr>\n",
       "      <th>...</th>\n",
       "      <td>...</td>\n",
       "      <td>...</td>\n",
       "      <td>...</td>\n",
       "      <td>...</td>\n",
       "      <td>...</td>\n",
       "      <td>...</td>\n",
       "      <td>...</td>\n",
       "    </tr>\n",
       "    <tr>\n",
       "      <th>1335</th>\n",
       "      <td>34100</td>\n",
       "      <td>0</td>\n",
       "      <td>0.0</td>\n",
       "      <td>1.0</td>\n",
       "      <td>0.0</td>\n",
       "      <td>NaN</td>\n",
       "      <td>0.576</td>\n",
       "    </tr>\n",
       "    <tr>\n",
       "      <th>1336</th>\n",
       "      <td>34110</td>\n",
       "      <td>1</td>\n",
       "      <td>1.0</td>\n",
       "      <td>1.0</td>\n",
       "      <td>0.0</td>\n",
       "      <td>46.0</td>\n",
       "      <td>3.705</td>\n",
       "    </tr>\n",
       "    <tr>\n",
       "      <th>1337</th>\n",
       "      <td>34113</td>\n",
       "      <td>0</td>\n",
       "      <td>1.0</td>\n",
       "      <td>1.0</td>\n",
       "      <td>0.0</td>\n",
       "      <td>39.0</td>\n",
       "      <td>0.099</td>\n",
       "    </tr>\n",
       "    <tr>\n",
       "      <th>1338</th>\n",
       "      <td>34145</td>\n",
       "      <td>1</td>\n",
       "      <td>1.0</td>\n",
       "      <td>0.0</td>\n",
       "      <td>0.0</td>\n",
       "      <td>8.0</td>\n",
       "      <td>3.177</td>\n",
       "    </tr>\n",
       "    <tr>\n",
       "      <th>1339</th>\n",
       "      <td>34153</td>\n",
       "      <td>0</td>\n",
       "      <td>1.0</td>\n",
       "      <td>1.0</td>\n",
       "      <td>0.0</td>\n",
       "      <td>30.0</td>\n",
       "      <td>0.688</td>\n",
       "    </tr>\n",
       "  </tbody>\n",
       "</table>\n",
       "<p>1340 rows × 7 columns</p>\n",
       "</div>"
      ],
      "text/plain": [
       "      CASENUM  ATTORNEY  CLMSEX  CLMINSUR  SEATBELT  CLMAGE    LOSS\n",
       "0           5         1     0.0       1.0       0.0    50.0  34.940\n",
       "1           3         0     1.0       0.0       0.0    18.0   0.891\n",
       "2          66         0     0.0       1.0       0.0     5.0   0.330\n",
       "3          70         1     0.0       1.0       1.0    31.0   0.037\n",
       "4          96         0     0.0       1.0       0.0    30.0   0.038\n",
       "...       ...       ...     ...       ...       ...     ...     ...\n",
       "1335    34100         0     0.0       1.0       0.0     NaN   0.576\n",
       "1336    34110         1     1.0       1.0       0.0    46.0   3.705\n",
       "1337    34113         0     1.0       1.0       0.0    39.0   0.099\n",
       "1338    34145         1     1.0       0.0       0.0     8.0   3.177\n",
       "1339    34153         0     1.0       1.0       0.0    30.0   0.688\n",
       "\n",
       "[1340 rows x 7 columns]"
      ]
     },
     "execution_count": 2,
     "metadata": {},
     "output_type": "execute_result"
    }
   ],
   "source": [
    "df = pd.read_csv('https://raw.githubusercontent.com/aishwaryamate/Machine-Learning/main/Logistic%20Regression/Client.csv',\n",
    "                index_col=0)\n",
    "df"
   ]
  },
  {
   "cell_type": "code",
   "execution_count": 3,
   "id": "758ccdea",
   "metadata": {
    "ExecuteTime": {
     "end_time": "2023-04-17T04:45:08.961658Z",
     "start_time": "2023-04-17T04:45:08.931334Z"
    }
   },
   "outputs": [],
   "source": [
    "df.drop(columns=['CASENUM'], inplace=True)"
   ]
  },
  {
   "cell_type": "markdown",
   "id": "808b2a73",
   "metadata": {},
   "source": [
    "# EDA"
   ]
  },
  {
   "cell_type": "code",
   "execution_count": 4,
   "id": "4436a5d8",
   "metadata": {
    "ExecuteTime": {
     "end_time": "2023-04-17T04:45:10.984323Z",
     "start_time": "2023-04-17T04:45:10.900435Z"
    }
   },
   "outputs": [
    {
     "data": {
      "text/html": [
       "<div>\n",
       "<style scoped>\n",
       "    .dataframe tbody tr th:only-of-type {\n",
       "        vertical-align: middle;\n",
       "    }\n",
       "\n",
       "    .dataframe tbody tr th {\n",
       "        vertical-align: top;\n",
       "    }\n",
       "\n",
       "    .dataframe thead th {\n",
       "        text-align: right;\n",
       "    }\n",
       "</style>\n",
       "<table border=\"1\" class=\"dataframe\">\n",
       "  <thead>\n",
       "    <tr style=\"text-align: right;\">\n",
       "      <th></th>\n",
       "      <th>ATTORNEY</th>\n",
       "      <th>CLMSEX</th>\n",
       "      <th>CLMINSUR</th>\n",
       "      <th>SEATBELT</th>\n",
       "      <th>CLMAGE</th>\n",
       "      <th>LOSS</th>\n",
       "    </tr>\n",
       "  </thead>\n",
       "  <tbody>\n",
       "    <tr>\n",
       "      <th>count</th>\n",
       "      <td>1340.000000</td>\n",
       "      <td>1328.000000</td>\n",
       "      <td>1299.000000</td>\n",
       "      <td>1292.000000</td>\n",
       "      <td>1151.000000</td>\n",
       "      <td>1340.000000</td>\n",
       "    </tr>\n",
       "    <tr>\n",
       "      <th>mean</th>\n",
       "      <td>0.511194</td>\n",
       "      <td>0.558735</td>\n",
       "      <td>0.907621</td>\n",
       "      <td>0.017028</td>\n",
       "      <td>28.414422</td>\n",
       "      <td>3.806307</td>\n",
       "    </tr>\n",
       "    <tr>\n",
       "      <th>std</th>\n",
       "      <td>0.500061</td>\n",
       "      <td>0.496725</td>\n",
       "      <td>0.289671</td>\n",
       "      <td>0.129425</td>\n",
       "      <td>20.304451</td>\n",
       "      <td>10.636903</td>\n",
       "    </tr>\n",
       "    <tr>\n",
       "      <th>min</th>\n",
       "      <td>0.000000</td>\n",
       "      <td>0.000000</td>\n",
       "      <td>0.000000</td>\n",
       "      <td>0.000000</td>\n",
       "      <td>0.000000</td>\n",
       "      <td>0.000000</td>\n",
       "    </tr>\n",
       "    <tr>\n",
       "      <th>25%</th>\n",
       "      <td>0.000000</td>\n",
       "      <td>0.000000</td>\n",
       "      <td>1.000000</td>\n",
       "      <td>0.000000</td>\n",
       "      <td>9.000000</td>\n",
       "      <td>0.400000</td>\n",
       "    </tr>\n",
       "    <tr>\n",
       "      <th>50%</th>\n",
       "      <td>1.000000</td>\n",
       "      <td>1.000000</td>\n",
       "      <td>1.000000</td>\n",
       "      <td>0.000000</td>\n",
       "      <td>30.000000</td>\n",
       "      <td>1.069500</td>\n",
       "    </tr>\n",
       "    <tr>\n",
       "      <th>75%</th>\n",
       "      <td>1.000000</td>\n",
       "      <td>1.000000</td>\n",
       "      <td>1.000000</td>\n",
       "      <td>0.000000</td>\n",
       "      <td>43.000000</td>\n",
       "      <td>3.781500</td>\n",
       "    </tr>\n",
       "    <tr>\n",
       "      <th>max</th>\n",
       "      <td>1.000000</td>\n",
       "      <td>1.000000</td>\n",
       "      <td>1.000000</td>\n",
       "      <td>1.000000</td>\n",
       "      <td>95.000000</td>\n",
       "      <td>173.604000</td>\n",
       "    </tr>\n",
       "  </tbody>\n",
       "</table>\n",
       "</div>"
      ],
      "text/plain": [
       "          ATTORNEY       CLMSEX     CLMINSUR     SEATBELT       CLMAGE  \\\n",
       "count  1340.000000  1328.000000  1299.000000  1292.000000  1151.000000   \n",
       "mean      0.511194     0.558735     0.907621     0.017028    28.414422   \n",
       "std       0.500061     0.496725     0.289671     0.129425    20.304451   \n",
       "min       0.000000     0.000000     0.000000     0.000000     0.000000   \n",
       "25%       0.000000     0.000000     1.000000     0.000000     9.000000   \n",
       "50%       1.000000     1.000000     1.000000     0.000000    30.000000   \n",
       "75%       1.000000     1.000000     1.000000     0.000000    43.000000   \n",
       "max       1.000000     1.000000     1.000000     1.000000    95.000000   \n",
       "\n",
       "              LOSS  \n",
       "count  1340.000000  \n",
       "mean      3.806307  \n",
       "std      10.636903  \n",
       "min       0.000000  \n",
       "25%       0.400000  \n",
       "50%       1.069500  \n",
       "75%       3.781500  \n",
       "max     173.604000  "
      ]
     },
     "execution_count": 4,
     "metadata": {},
     "output_type": "execute_result"
    }
   ],
   "source": [
    "df.describe()"
   ]
  },
  {
   "cell_type": "code",
   "execution_count": 5,
   "id": "f9959914",
   "metadata": {
    "ExecuteTime": {
     "end_time": "2023-04-17T04:45:16.335519Z",
     "start_time": "2023-04-17T04:45:16.309180Z"
    }
   },
   "outputs": [
    {
     "data": {
      "text/plain": [
       "ATTORNEY      0\n",
       "CLMSEX       12\n",
       "CLMINSUR     41\n",
       "SEATBELT     48\n",
       "CLMAGE      189\n",
       "LOSS          0\n",
       "dtype: int64"
      ]
     },
     "execution_count": 5,
     "metadata": {},
     "output_type": "execute_result"
    }
   ],
   "source": [
    "df.isna().sum()"
   ]
  },
  {
   "cell_type": "code",
   "execution_count": 6,
   "id": "c2761027",
   "metadata": {
    "ExecuteTime": {
     "end_time": "2023-04-17T04:45:18.830157Z",
     "start_time": "2023-04-17T04:45:18.801864Z"
    }
   },
   "outputs": [
    {
     "name": "stdout",
     "output_type": "stream",
     "text": [
      "Missing Values: 0.0\n",
      "Missing Values: 0.8955223880597015\n",
      "Missing Values: 3.0597014925373136\n",
      "Missing Values: 3.582089552238806\n",
      "Missing Values: 14.1044776119403\n",
      "Missing Values: 0.0\n"
     ]
    }
   ],
   "source": [
    "for i in df.isna().sum():\n",
    "    print(f\"Missing Values: {i/len(df)*100}\")"
   ]
  },
  {
   "cell_type": "markdown",
   "id": "592d99f9",
   "metadata": {},
   "source": [
    "# Missing Value imputation"
   ]
  },
  {
   "cell_type": "code",
   "execution_count": 7,
   "id": "3d057129",
   "metadata": {
    "ExecuteTime": {
     "end_time": "2023-04-17T04:45:24.680097Z",
     "start_time": "2023-04-17T04:45:22.461455Z"
    }
   },
   "outputs": [
    {
     "data": {
      "image/png": "[encoded data removed]",
      "text/plain": [
       "<Figure size 2500x1250 with 6 Axes>"
      ]
     },
     "metadata": {},
     "output_type": "display_data"
    }
   ],
   "source": [
    "df.hist()\n",
    "plt.tight_layout()"
   ]
  },
  {
   "cell_type": "code",
   "execution_count": 8,
   "id": "0bfba868",
   "metadata": {
    "ExecuteTime": {
     "end_time": "2023-04-17T04:46:05.763364Z",
     "start_time": "2023-04-17T04:46:04.938649Z"
    }
   },
   "outputs": [],
   "source": [
    "from sklearn.impute import SimpleImputer"
   ]
  },
  {
   "cell_type": "code",
   "execution_count": 9,
   "id": "4f64f956",
   "metadata": {
    "ExecuteTime": {
     "end_time": "2023-04-17T04:46:06.227268Z",
     "start_time": "2023-04-17T04:46:06.214436Z"
    }
   },
   "outputs": [],
   "source": [
    "si = SimpleImputer(strategy='most_frequent')"
   ]
  },
  {
   "cell_type": "code",
   "execution_count": 10,
   "id": "26774a60",
   "metadata": {
    "ExecuteTime": {
     "end_time": "2023-04-17T04:46:07.357139Z",
     "start_time": "2023-04-17T04:46:07.299470Z"
    }
   },
   "outputs": [],
   "source": [
    "df.loc[:,'CLMSEX':'SEATBELT'] = si.fit_transform(df.loc[:,'CLMSEX':'SEATBELT'])"
   ]
  },
  {
   "cell_type": "code",
   "execution_count": 11,
   "id": "dfef9255",
   "metadata": {
    "ExecuteTime": {
     "end_time": "2023-04-17T04:46:17.828259Z",
     "start_time": "2023-04-17T04:46:17.816676Z"
    }
   },
   "outputs": [],
   "source": [
    "df['CLMAGE'].fillna(df['CLMAGE'].median(), inplace=True)"
   ]
  },
  {
   "cell_type": "code",
   "execution_count": 12,
   "id": "529befea",
   "metadata": {
    "ExecuteTime": {
     "end_time": "2023-04-17T04:46:22.288743Z",
     "start_time": "2023-04-17T04:46:22.241746Z"
    }
   },
   "outputs": [
    {
     "data": {
      "text/plain": [
       "ATTORNEY    0\n",
       "CLMSEX      0\n",
       "CLMINSUR    0\n",
       "SEATBELT    0\n",
       "CLMAGE      0\n",
       "LOSS        0\n",
       "dtype: int64"
      ]
     },
     "execution_count": 12,
     "metadata": {},
     "output_type": "execute_result"
    }
   ],
   "source": [
    "df.isna().sum()"
   ]
  },
  {
   "cell_type": "markdown",
   "id": "e688a4ce",
   "metadata": {},
   "source": [
    "# Splitting the data into training and testing set."
   ]
  },
  {
   "cell_type": "code",
   "execution_count": 13,
   "id": "297f51e6",
   "metadata": {
    "ExecuteTime": {
     "end_time": "2023-04-17T04:47:38.834917Z",
     "start_time": "2023-04-17T04:47:38.815491Z"
    }
   },
   "outputs": [],
   "source": [
    "from sklearn.model_selection import train_test_split"
   ]
  },
  {
   "cell_type": "code",
   "execution_count": 14,
   "id": "7645751d",
   "metadata": {
    "ExecuteTime": {
     "end_time": "2023-04-17T04:48:01.369617Z",
     "start_time": "2023-04-17T04:48:01.360270Z"
    }
   },
   "outputs": [],
   "source": [
    "x =df.iloc[:,1:]\n",
    "y = df['ATTORNEY']"
   ]
  },
  {
   "cell_type": "code",
   "execution_count": 15,
   "id": "45c7842c",
   "metadata": {
    "ExecuteTime": {
     "end_time": "2023-04-17T04:51:02.571062Z",
     "start_time": "2023-04-17T04:51:02.548752Z"
    }
   },
   "outputs": [],
   "source": [
    "xtrain,xtest,ytrain,ytest = train_test_split(x,y,test_size=0.25,random_state=1)"
   ]
  },
  {
   "cell_type": "code",
   "execution_count": 16,
   "id": "733ddf6b",
   "metadata": {
    "ExecuteTime": {
     "end_time": "2023-04-17T04:51:02.942371Z",
     "start_time": "2023-04-17T04:51:02.889903Z"
    }
   },
   "outputs": [
    {
     "data": {
      "text/html": [
       "<div>\n",
       "<style scoped>\n",
       "    .dataframe tbody tr th:only-of-type {\n",
       "        vertical-align: middle;\n",
       "    }\n",
       "\n",
       "    .dataframe tbody tr th {\n",
       "        vertical-align: top;\n",
       "    }\n",
       "\n",
       "    .dataframe thead th {\n",
       "        text-align: right;\n",
       "    }\n",
       "</style>\n",
       "<table border=\"1\" class=\"dataframe\">\n",
       "  <thead>\n",
       "    <tr style=\"text-align: right;\">\n",
       "      <th></th>\n",
       "      <th>CLMSEX</th>\n",
       "      <th>CLMINSUR</th>\n",
       "      <th>SEATBELT</th>\n",
       "      <th>CLMAGE</th>\n",
       "      <th>LOSS</th>\n",
       "    </tr>\n",
       "  </thead>\n",
       "  <tbody>\n",
       "    <tr>\n",
       "      <th>1045</th>\n",
       "      <td>1.0</td>\n",
       "      <td>1.0</td>\n",
       "      <td>0.0</td>\n",
       "      <td>37.0</td>\n",
       "      <td>0.935</td>\n",
       "    </tr>\n",
       "    <tr>\n",
       "      <th>969</th>\n",
       "      <td>0.0</td>\n",
       "      <td>1.0</td>\n",
       "      <td>0.0</td>\n",
       "      <td>14.0</td>\n",
       "      <td>10.869</td>\n",
       "    </tr>\n",
       "    <tr>\n",
       "      <th>594</th>\n",
       "      <td>1.0</td>\n",
       "      <td>1.0</td>\n",
       "      <td>0.0</td>\n",
       "      <td>43.0</td>\n",
       "      <td>0.007</td>\n",
       "    </tr>\n",
       "    <tr>\n",
       "      <th>1081</th>\n",
       "      <td>1.0</td>\n",
       "      <td>1.0</td>\n",
       "      <td>0.0</td>\n",
       "      <td>77.0</td>\n",
       "      <td>1.000</td>\n",
       "    </tr>\n",
       "    <tr>\n",
       "      <th>1053</th>\n",
       "      <td>1.0</td>\n",
       "      <td>1.0</td>\n",
       "      <td>0.0</td>\n",
       "      <td>58.0</td>\n",
       "      <td>9.485</td>\n",
       "    </tr>\n",
       "    <tr>\n",
       "      <th>...</th>\n",
       "      <td>...</td>\n",
       "      <td>...</td>\n",
       "      <td>...</td>\n",
       "      <td>...</td>\n",
       "      <td>...</td>\n",
       "    </tr>\n",
       "    <tr>\n",
       "      <th>715</th>\n",
       "      <td>0.0</td>\n",
       "      <td>1.0</td>\n",
       "      <td>0.0</td>\n",
       "      <td>13.0</td>\n",
       "      <td>6.979</td>\n",
       "    </tr>\n",
       "    <tr>\n",
       "      <th>905</th>\n",
       "      <td>0.0</td>\n",
       "      <td>1.0</td>\n",
       "      <td>0.0</td>\n",
       "      <td>30.0</td>\n",
       "      <td>3.330</td>\n",
       "    </tr>\n",
       "    <tr>\n",
       "      <th>1096</th>\n",
       "      <td>0.0</td>\n",
       "      <td>1.0</td>\n",
       "      <td>0.0</td>\n",
       "      <td>50.0</td>\n",
       "      <td>3.095</td>\n",
       "    </tr>\n",
       "    <tr>\n",
       "      <th>235</th>\n",
       "      <td>1.0</td>\n",
       "      <td>1.0</td>\n",
       "      <td>0.0</td>\n",
       "      <td>17.0</td>\n",
       "      <td>1.619</td>\n",
       "    </tr>\n",
       "    <tr>\n",
       "      <th>1061</th>\n",
       "      <td>1.0</td>\n",
       "      <td>1.0</td>\n",
       "      <td>0.0</td>\n",
       "      <td>47.0</td>\n",
       "      <td>0.480</td>\n",
       "    </tr>\n",
       "  </tbody>\n",
       "</table>\n",
       "<p>1005 rows × 5 columns</p>\n",
       "</div>"
      ],
      "text/plain": [
       "      CLMSEX  CLMINSUR  SEATBELT  CLMAGE    LOSS\n",
       "1045     1.0       1.0       0.0    37.0   0.935\n",
       "969      0.0       1.0       0.0    14.0  10.869\n",
       "594      1.0       1.0       0.0    43.0   0.007\n",
       "1081     1.0       1.0       0.0    77.0   1.000\n",
       "1053     1.0       1.0       0.0    58.0   9.485\n",
       "...      ...       ...       ...     ...     ...\n",
       "715      0.0       1.0       0.0    13.0   6.979\n",
       "905      0.0       1.0       0.0    30.0   3.330\n",
       "1096     0.0       1.0       0.0    50.0   3.095\n",
       "235      1.0       1.0       0.0    17.0   1.619\n",
       "1061     1.0       1.0       0.0    47.0   0.480\n",
       "\n",
       "[1005 rows x 5 columns]"
      ]
     },
     "execution_count": 16,
     "metadata": {},
     "output_type": "execute_result"
    }
   ],
   "source": [
    "xtrain"
   ]
  },
  {
   "cell_type": "code",
   "execution_count": 17,
   "id": "89d112c7",
   "metadata": {
    "ExecuteTime": {
     "end_time": "2023-04-17T04:49:04.084015Z",
     "start_time": "2023-04-17T04:49:04.062937Z"
    }
   },
   "outputs": [
    {
     "data": {
      "text/plain": [
       "1045    0\n",
       "969     1\n",
       "594     0\n",
       "1081    0\n",
       "1053    1\n",
       "       ..\n",
       "715     0\n",
       "905     0\n",
       "1096    1\n",
       "235     1\n",
       "1061    0\n",
       "Name: ATTORNEY, Length: 1005, dtype: int64"
      ]
     },
     "execution_count": 17,
     "metadata": {},
     "output_type": "execute_result"
    }
   ],
   "source": [
    "ytrain"
   ]
  },
  {
   "cell_type": "code",
   "execution_count": 18,
   "id": "92685635",
   "metadata": {
    "ExecuteTime": {
     "end_time": "2023-04-17T04:49:29.285765Z",
     "start_time": "2023-04-17T04:49:29.257087Z"
    }
   },
   "outputs": [
    {
     "data": {
      "text/html": [
       "<div>\n",
       "<style scoped>\n",
       "    .dataframe tbody tr th:only-of-type {\n",
       "        vertical-align: middle;\n",
       "    }\n",
       "\n",
       "    .dataframe tbody tr th {\n",
       "        vertical-align: top;\n",
       "    }\n",
       "\n",
       "    .dataframe thead th {\n",
       "        text-align: right;\n",
       "    }\n",
       "</style>\n",
       "<table border=\"1\" class=\"dataframe\">\n",
       "  <thead>\n",
       "    <tr style=\"text-align: right;\">\n",
       "      <th></th>\n",
       "      <th>CLMSEX</th>\n",
       "      <th>CLMINSUR</th>\n",
       "      <th>SEATBELT</th>\n",
       "      <th>CLMAGE</th>\n",
       "      <th>LOSS</th>\n",
       "    </tr>\n",
       "  </thead>\n",
       "  <tbody>\n",
       "    <tr>\n",
       "      <th>559</th>\n",
       "      <td>1.0</td>\n",
       "      <td>1.0</td>\n",
       "      <td>0.0</td>\n",
       "      <td>30.0</td>\n",
       "      <td>0.105</td>\n",
       "    </tr>\n",
       "    <tr>\n",
       "      <th>1089</th>\n",
       "      <td>1.0</td>\n",
       "      <td>1.0</td>\n",
       "      <td>0.0</td>\n",
       "      <td>39.0</td>\n",
       "      <td>0.450</td>\n",
       "    </tr>\n",
       "    <tr>\n",
       "      <th>1021</th>\n",
       "      <td>0.0</td>\n",
       "      <td>1.0</td>\n",
       "      <td>0.0</td>\n",
       "      <td>8.0</td>\n",
       "      <td>0.764</td>\n",
       "    </tr>\n",
       "    <tr>\n",
       "      <th>460</th>\n",
       "      <td>1.0</td>\n",
       "      <td>1.0</td>\n",
       "      <td>0.0</td>\n",
       "      <td>10.0</td>\n",
       "      <td>1.069</td>\n",
       "    </tr>\n",
       "    <tr>\n",
       "      <th>802</th>\n",
       "      <td>1.0</td>\n",
       "      <td>1.0</td>\n",
       "      <td>0.0</td>\n",
       "      <td>11.0</td>\n",
       "      <td>3.713</td>\n",
       "    </tr>\n",
       "    <tr>\n",
       "      <th>...</th>\n",
       "      <td>...</td>\n",
       "      <td>...</td>\n",
       "      <td>...</td>\n",
       "      <td>...</td>\n",
       "      <td>...</td>\n",
       "    </tr>\n",
       "    <tr>\n",
       "      <th>1194</th>\n",
       "      <td>1.0</td>\n",
       "      <td>1.0</td>\n",
       "      <td>0.0</td>\n",
       "      <td>7.0</td>\n",
       "      <td>0.599</td>\n",
       "    </tr>\n",
       "    <tr>\n",
       "      <th>628</th>\n",
       "      <td>1.0</td>\n",
       "      <td>1.0</td>\n",
       "      <td>0.0</td>\n",
       "      <td>48.0</td>\n",
       "      <td>0.058</td>\n",
       "    </tr>\n",
       "    <tr>\n",
       "      <th>1100</th>\n",
       "      <td>1.0</td>\n",
       "      <td>1.0</td>\n",
       "      <td>0.0</td>\n",
       "      <td>43.0</td>\n",
       "      <td>3.800</td>\n",
       "    </tr>\n",
       "    <tr>\n",
       "      <th>1227</th>\n",
       "      <td>0.0</td>\n",
       "      <td>1.0</td>\n",
       "      <td>0.0</td>\n",
       "      <td>30.0</td>\n",
       "      <td>0.161</td>\n",
       "    </tr>\n",
       "    <tr>\n",
       "      <th>937</th>\n",
       "      <td>1.0</td>\n",
       "      <td>1.0</td>\n",
       "      <td>0.0</td>\n",
       "      <td>30.0</td>\n",
       "      <td>0.038</td>\n",
       "    </tr>\n",
       "  </tbody>\n",
       "</table>\n",
       "<p>335 rows × 5 columns</p>\n",
       "</div>"
      ],
      "text/plain": [
       "      CLMSEX  CLMINSUR  SEATBELT  CLMAGE   LOSS\n",
       "559      1.0       1.0       0.0    30.0  0.105\n",
       "1089     1.0       1.0       0.0    39.0  0.450\n",
       "1021     0.0       1.0       0.0     8.0  0.764\n",
       "460      1.0       1.0       0.0    10.0  1.069\n",
       "802      1.0       1.0       0.0    11.0  3.713\n",
       "...      ...       ...       ...     ...    ...\n",
       "1194     1.0       1.0       0.0     7.0  0.599\n",
       "628      1.0       1.0       0.0    48.0  0.058\n",
       "1100     1.0       1.0       0.0    43.0  3.800\n",
       "1227     0.0       1.0       0.0    30.0  0.161\n",
       "937      1.0       1.0       0.0    30.0  0.038\n",
       "\n",
       "[335 rows x 5 columns]"
      ]
     },
     "execution_count": 18,
     "metadata": {},
     "output_type": "execute_result"
    }
   ],
   "source": [
    "xtest"
   ]
  },
  {
   "cell_type": "code",
   "execution_count": 19,
   "id": "a7919e06",
   "metadata": {
    "ExecuteTime": {
     "end_time": "2023-04-17T04:49:34.119975Z",
     "start_time": "2023-04-17T04:49:34.098982Z"
    }
   },
   "outputs": [
    {
     "data": {
      "text/plain": [
       "559     0\n",
       "1089    0\n",
       "1021    0\n",
       "460     0\n",
       "802     1\n",
       "       ..\n",
       "1194    0\n",
       "628     0\n",
       "1100    1\n",
       "1227    1\n",
       "937     0\n",
       "Name: ATTORNEY, Length: 335, dtype: int64"
      ]
     },
     "execution_count": 19,
     "metadata": {},
     "output_type": "execute_result"
    }
   ],
   "source": [
    "ytest"
   ]
  },
  {
   "cell_type": "markdown",
   "id": "6a864e55",
   "metadata": {},
   "source": [
    "# Model Building"
   ]
  },
  {
   "cell_type": "code",
   "execution_count": 20,
   "id": "4636a27a",
   "metadata": {
    "ExecuteTime": {
     "end_time": "2023-04-17T04:51:39.439292Z",
     "start_time": "2023-04-17T04:51:39.431437Z"
    }
   },
   "outputs": [],
   "source": [
    "from sklearn.linear_model import LogisticRegression"
   ]
  },
  {
   "cell_type": "code",
   "execution_count": 21,
   "id": "f2f4cd93",
   "metadata": {
    "ExecuteTime": {
     "end_time": "2023-04-17T04:52:13.242076Z",
     "start_time": "2023-04-17T04:52:13.226338Z"
    }
   },
   "outputs": [],
   "source": [
    "lg = LogisticRegression()"
   ]
  },
  {
   "cell_type": "code",
   "execution_count": 22,
   "id": "e276e4ad",
   "metadata": {
    "ExecuteTime": {
     "end_time": "2023-04-17T04:55:04.412479Z",
     "start_time": "2023-04-17T04:55:04.313152Z"
    }
   },
   "outputs": [],
   "source": [
    "#Train the model\n",
    "lg.fit(xtrain,ytrain)\n",
    "\n",
    "#Prediction\n",
    "ypred = lg.predict(xtest)"
   ]
  },
  {
   "cell_type": "code",
   "execution_count": 23,
   "id": "11b1c77e",
   "metadata": {
    "ExecuteTime": {
     "end_time": "2023-04-17T04:55:43.080421Z",
     "start_time": "2023-04-17T04:55:43.065930Z"
    }
   },
   "outputs": [
    {
     "name": "stdout",
     "output_type": "stream",
     "text": [
      "(335, 5)\n",
      "(335,)\n"
     ]
    }
   ],
   "source": [
    "print(xtest.shape)\n",
    "print(ypred.shape)"
   ]
  },
  {
   "cell_type": "code",
   "execution_count": 24,
   "id": "5e35ad22",
   "metadata": {
    "ExecuteTime": {
     "end_time": "2023-04-17T04:55:20.320844Z",
     "start_time": "2023-04-17T04:55:20.294820Z"
    }
   },
   "outputs": [
    {
     "data": {
      "text/plain": [
       "array([0, 0, 0, 0, 1, 0, 0, 1, 0, 0, 0, 0, 0, 1, 0, 1, 0, 0, 0, 0, 0, 0,\n",
       "       1, 0, 0, 0, 0, 0, 0, 0, 0, 0, 0, 1, 1, 0, 1, 1, 0, 0, 0, 1, 0, 0,\n",
       "       0, 1, 0, 0, 0, 0, 0, 0, 0, 0, 0, 0, 1, 0, 1, 0, 1, 1, 0, 1, 1, 1,\n",
       "       0, 1, 1, 1, 1, 1, 0, 0, 1, 0, 1, 0, 0, 0, 0, 0, 1, 0, 0, 1, 1, 1,\n",
       "       0, 1, 0, 0, 1, 0, 0, 0, 0, 1, 1, 1, 1, 1, 1, 0, 1, 1, 0, 0, 1, 1,\n",
       "       1, 0, 0, 0, 1, 1, 0, 0, 0, 0, 1, 0, 0, 0, 0, 0, 1, 0, 0, 0, 1, 1,\n",
       "       0, 0, 1, 0, 1, 0, 1, 0, 0, 0, 0, 0, 0, 0, 0, 1, 1, 1, 0, 1, 1, 1,\n",
       "       1, 1, 1, 0, 0, 1, 0, 1, 0, 1, 0, 1, 1, 0, 0, 0, 1, 0, 1, 0, 0, 0,\n",
       "       0, 0, 0, 0, 0, 0, 0, 1, 0, 1, 0, 0, 0, 1, 0, 0, 1, 0, 0, 1, 1, 1,\n",
       "       0, 1, 0, 0, 0, 0, 1, 0, 0, 1, 1, 0, 0, 0, 1, 0, 0, 0, 1, 0, 0, 0,\n",
       "       1, 0, 0, 0, 1, 0, 1, 1, 0, 0, 0, 0, 0, 1, 1, 0, 0, 0, 1, 0, 0, 0,\n",
       "       1, 0, 1, 1, 1, 1, 0, 1, 1, 0, 1, 1, 1, 0, 1, 0, 1, 1, 1, 0, 1, 0,\n",
       "       0, 0, 1, 0, 1, 1, 0, 1, 0, 0, 0, 0, 0, 1, 1, 1, 1, 1, 0, 0, 1, 0,\n",
       "       0, 1, 1, 0, 0, 1, 0, 0, 0, 0, 0, 0, 1, 0, 0, 1, 0, 0, 0, 1, 1, 1,\n",
       "       1, 0, 1, 0, 0, 1, 0, 0, 0, 0, 1, 1, 1, 0, 0, 1, 1, 1, 1, 0, 1, 1,\n",
       "       0, 0, 1, 0, 0], dtype=int64)"
      ]
     },
     "execution_count": 24,
     "metadata": {},
     "output_type": "execute_result"
    }
   ],
   "source": [
    "ypred"
   ]
  },
  {
   "cell_type": "markdown",
   "id": "a03a5749",
   "metadata": {},
   "source": [
    "# Model Evaluation"
   ]
  },
  {
   "cell_type": "code",
   "execution_count": 25,
   "id": "38a4fdd6",
   "metadata": {
    "ExecuteTime": {
     "end_time": "2023-04-17T04:57:34.145177Z",
     "start_time": "2023-04-17T04:57:34.128938Z"
    }
   },
   "outputs": [
    {
     "name": "stdout",
     "output_type": "stream",
     "text": [
      "[0 0 0 0 1 0 1 1 0 1 1 1 0 1 1 0 1 1 0 0 0 0 1 0 0]\n",
      "[0 0 0 0 1 0 0 1 0 0 0 0 0 1 0 1 0 0 0 0 0 0 1 0 0]\n"
     ]
    }
   ],
   "source": [
    "#Actual values vs Predicted values\n",
    "print(ytest[:25].values)\n",
    "print(ypred[:25])"
   ]
  },
  {
   "cell_type": "code",
   "execution_count": 26,
   "id": "a29c7163",
   "metadata": {
    "ExecuteTime": {
     "end_time": "2023-04-14T03:54:54.562958Z",
     "start_time": "2023-04-14T03:54:54.553138Z"
    }
   },
   "outputs": [],
   "source": [
    "#Classification report"
   ]
  },
  {
   "cell_type": "code",
   "execution_count": 27,
   "id": "254ad07e",
   "metadata": {
    "ExecuteTime": {
     "end_time": "2023-04-17T05:02:59.668877Z",
     "start_time": "2023-04-17T05:02:59.651851Z"
    }
   },
   "outputs": [],
   "source": [
    "from sklearn.metrics import classification_report , confusion_matrix"
   ]
  },
  {
   "cell_type": "code",
   "execution_count": 28,
   "id": "1561260c",
   "metadata": {
    "ExecuteTime": {
     "end_time": "2023-04-17T05:00:40.585108Z",
     "start_time": "2023-04-17T05:00:40.534530Z"
    }
   },
   "outputs": [
    {
     "name": "stdout",
     "output_type": "stream",
     "text": [
      "              precision    recall  f1-score   support\n",
      "\n",
      "           0       0.65      0.78      0.71       169\n",
      "           1       0.71      0.57      0.64       166\n",
      "\n",
      "    accuracy                           0.67       335\n",
      "   macro avg       0.68      0.67      0.67       335\n",
      "weighted avg       0.68      0.67      0.67       335\n",
      "\n"
     ]
    }
   ],
   "source": [
    "print(classification_report(ytest,ypred))"
   ]
  },
  {
   "cell_type": "code",
   "execution_count": 29,
   "id": "56d79d9c",
   "metadata": {
    "ExecuteTime": {
     "end_time": "2023-04-17T05:03:13.776819Z",
     "start_time": "2023-04-17T05:03:13.740674Z"
    }
   },
   "outputs": [
    {
     "data": {
      "text/plain": [
       "array([[131,  38],\n",
       "       [ 71,  95]], dtype=int64)"
      ]
     },
     "execution_count": 29,
     "metadata": {},
     "output_type": "execute_result"
    }
   ],
   "source": [
    "confusion_matrix(ytest,ypred)"
   ]
  },
  {
   "cell_type": "code",
   "execution_count": 30,
   "id": "e207e21e",
   "metadata": {
    "ExecuteTime": {
     "end_time": "2023-04-17T05:04:45.781401Z",
     "start_time": "2023-04-17T05:04:45.381049Z"
    }
   },
   "outputs": [
    {
     "data": {
      "text/plain": [
       "Text(240.30555555555557, 0.5, 'Predicted Values')"
      ]
     },
     "execution_count": 30,
     "metadata": {},
     "output_type": "execute_result"
    },
    {
     "data": {
      "image/png": "[encoded data removed]",
      "text/plain": [
       "<Figure size 2500x1250 with 2 Axes>"
      ]
     },
     "metadata": {},
     "output_type": "display_data"
    }
   ],
   "source": [
    "sns.heatmap(confusion_matrix(ytest,ypred), annot=True, fmt='0.3g')\n",
    "plt.xlabel('Actual Values')\n",
    "plt.ylabel('Predicted Values')"
   ]
  },
  {
   "cell_type": "code",
   "execution_count": 31,
   "id": "5243ff0b",
   "metadata": {
    "ExecuteTime": {
     "end_time": "2023-04-17T05:42:38.690831Z",
     "start_time": "2023-04-17T05:42:38.672611Z"
    }
   },
   "outputs": [],
   "source": [
    "proba = lg.predict_proba(xtest)[:,1]\n",
    "\n"
   ]
  },
  {
   "cell_type": "markdown",
   "id": "51de0d6e",
   "metadata": {},
   "source": [
    "-  Proba will give us two probabilities 0th class and 1st class \n",
    "-  What is the probability that this record is going to 1st class and what is the probability that this particular record is going to second class"
   ]
  },
  {
   "cell_type": "code",
   "execution_count": 53,
   "id": "b16570d0",
   "metadata": {
    "ExecuteTime": {
     "end_time": "2023-04-17T05:42:42.124188Z",
     "start_time": "2023-04-17T05:42:42.096785Z"
    }
   },
   "outputs": [
    {
     "data": {
      "text/plain": [
       "array([0.30323781, 0.31846486, 0.44484255, 0.3901692 , 0.59370228,\n",
       "       0.36823781, 0.29888722, 0.54667107, 0.33706775, 0.33238427,\n",
       "       0.44090977, 0.38813308, 0.3914463 , 0.59157154, 0.33545829,\n",
       "       0.5731052 , 0.43341783, 0.45874373, 0.35550498, 0.33005752,\n",
       "       0.31795131, 0.4083713 , 0.62389624, 0.41008005, 0.40016091,\n",
       "       0.36342888, 0.29631884, 0.37630725, 0.400861  , 0.32067067,\n",
       "       0.40847759, 0.36287272, 0.43854964, 0.73063368, 0.75157225,\n",
       "       0.39185659, 0.64438525, 0.54355777, 0.3507862 , 0.31006104,\n",
       "       0.32245154, 0.99987043, 0.49796237, 0.4704765 , 0.43495983,\n",
       "       0.6006756 , 0.27600771, 0.32326512, 0.37555168, 0.41561345,\n",
       "       0.426043  , 0.32113007, 0.31666494, 0.42155288, 0.45109274,\n",
       "       0.370873  , 0.73561399, 0.3470899 , 0.82853879, 0.3458794 ,\n",
       "       0.58021035, 0.63826416, 0.36823781, 0.91214555, 0.59669959,\n",
       "       0.85775538, 0.34425773, 0.87709615, 0.53331762, 0.85152499,\n",
       "       0.74682103, 0.65175585, 0.31869644, 0.41337124, 0.63697681,\n",
       "       0.30900274, 0.85955148, 0.33576229, 0.32136489, 0.28809198,\n",
       "       0.32311623, 0.46380761, 0.66233595, 0.49585689, 0.41853571,\n",
       "       0.50209304, 0.77832222, 0.698245  , 0.30295926, 0.90648842,\n",
       "       0.361052  , 0.37542351, 0.66656534, 0.30761398, 0.44067762,\n",
       "       0.34356567, 0.36568542, 0.60856374, 0.62337616, 0.67287647,\n",
       "       0.65696146, 0.59753032, 0.58595762, 0.49192916, 0.57212609,\n",
       "       0.69030255, 0.40839953, 0.28135356, 0.52928342, 0.74339897,\n",
       "       0.99991246, 0.32157608, 0.40242361, 0.35563022, 0.64270027,\n",
       "       0.58687793, 0.47656288, 0.32151558, 0.33284005, 0.32721392,\n",
       "       0.80374323, 0.38566268, 0.35335404, 0.48538017, 0.39689255,\n",
       "       0.34999002, 0.6689354 , 0.39828953, 0.41836067, 0.33482489,\n",
       "       0.95983274, 0.50592925, 0.42347029, 0.34132398, 0.75184657,\n",
       "       0.30092135, 0.90117574, 0.38960611, 0.56279151, 0.3583172 ,\n",
       "       0.30767133, 0.29957768, 0.41113508, 0.32300047, 0.31666494,\n",
       "       0.36247234, 0.32221254, 0.59881529, 0.80699679, 0.75557278,\n",
       "       0.31816924, 0.74668385, 0.99999999, 0.65100671, 1.        ,\n",
       "       0.75465901, 0.61328381, 0.30850317, 0.40821987, 0.51737662,\n",
       "       0.36564159, 0.75359807, 0.38126267, 0.97692371, 0.43959003,\n",
       "       0.55504011, 0.59374981, 0.3598447 , 0.30185614, 0.41481616,\n",
       "       0.61500133, 0.39354657, 0.90344482, 0.36545663, 0.43835111,\n",
       "       0.34044128, 0.42489218, 0.38402141, 0.33005752, 0.3774508 ,\n",
       "       0.42303054, 0.28292315, 0.40818255, 0.65487815, 0.41656351,\n",
       "       0.66993563, 0.39955629, 0.41391507, 0.3480642 , 0.50443825,\n",
       "       0.32849474, 0.32246708, 0.5689856 , 0.33494483, 0.35387676,\n",
       "       0.73089098, 0.57113995, 0.74213433, 0.44875109, 0.5589744 ,\n",
       "       0.42747126, 0.31802092, 0.31560627, 0.32902721, 0.55820035,\n",
       "       0.38256707, 0.28303054, 0.54015525, 0.69579978, 0.48008611,\n",
       "       0.35693248, 0.29335558, 0.89064464, 0.38300992, 0.32663961,\n",
       "       0.45648385, 0.53947812, 0.42130368, 0.31470395, 0.39729218,\n",
       "       0.52618545, 0.42880684, 0.42527578, 0.29942528, 0.61865595,\n",
       "       0.35244274, 0.64968645, 0.9999708 , 0.37630725, 0.25756627,\n",
       "       0.41447439, 0.43460929, 0.38909427, 0.74199354, 0.71645362,\n",
       "       0.34003624, 0.30883812, 0.42313077, 0.60321772, 0.44063105,\n",
       "       0.35629448, 0.35120509, 0.51633061, 0.37801604, 0.85635527,\n",
       "       0.58660638, 0.5114213 , 0.53408312, 0.43266659, 0.59470127,\n",
       "       0.99999998, 0.43608876, 0.66532816, 0.59056556, 0.63573149,\n",
       "       0.49873152, 0.56759661, 0.33439714, 0.57433121, 0.57000833,\n",
       "       0.83900064, 0.3874218 , 0.6559217 , 0.35783661, 0.41249963,\n",
       "       0.42507813, 1.        , 0.35131737, 0.57350218, 0.669908  ,\n",
       "       0.31632539, 0.5383033 , 0.37839352, 0.49374734, 0.46900421,\n",
       "       0.44254453, 0.32859133, 0.75866858, 0.58511762, 0.63182398,\n",
       "       1.        , 0.81662268, 0.3649825 , 0.34285184, 0.8310217 ,\n",
       "       0.33921368, 0.36489726, 0.78161025, 0.62990051, 0.38022236,\n",
       "       0.46748542, 0.76375363, 0.28679311, 0.29631884, 0.37248374,\n",
       "       0.38102161, 0.31513378, 0.42284412, 1.        , 0.3977905 ,\n",
       "       0.39681353, 0.6951082 , 0.27710961, 0.35388303, 0.43114317,\n",
       "       0.6148189 , 0.55102653, 0.81779368, 0.99999964, 0.48719515,\n",
       "       0.90701471, 0.38956117, 0.42040753, 0.60170961, 0.43488035,\n",
       "       0.43295489, 0.33558422, 0.32251037, 0.98323021, 0.59044854,\n",
       "       0.58952849, 0.31359852, 0.42554298, 0.63639799, 0.76602788,\n",
       "       0.62032849, 0.69926466, 0.30272825, 1.        , 0.64218311,\n",
       "       0.35853167, 0.28473177, 0.56814484, 0.37711806, 0.29881229])"
      ]
     },
     "execution_count": 53,
     "metadata": {},
     "output_type": "execute_result"
    }
   ],
   "source": [
    "proba"
   ]
  },
  {
   "cell_type": "markdown",
   "id": "4345a1cf",
   "metadata": {},
   "source": [
    "# Threshold selection"
   ]
  },
  {
   "cell_type": "code",
   "execution_count": 54,
   "id": "9545f750",
   "metadata": {
    "ExecuteTime": {
     "end_time": "2023-04-17T05:44:00.002243Z",
     "start_time": "2023-04-17T05:43:59.988132Z"
    },
    "scrolled": true
   },
   "outputs": [],
   "source": [
    "from sklearn.metrics import roc_auc_score, roc_curve"
   ]
  },
  {
   "cell_type": "code",
   "execution_count": 55,
   "id": "99204892",
   "metadata": {
    "ExecuteTime": {
     "end_time": "2023-04-17T05:46:12.891968Z",
     "start_time": "2023-04-17T05:46:12.879853Z"
    }
   },
   "outputs": [],
   "source": [
    "fpr,tpr,threshold = roc_curve(ytest,proba)\n",
    "auc = roc_auc_score(ytest,proba)"
   ]
  },
  {
   "cell_type": "code",
   "execution_count": 56,
   "id": "68fe3069",
   "metadata": {
    "ExecuteTime": {
     "end_time": "2023-04-17T05:47:57.520895Z",
     "start_time": "2023-04-17T05:47:57.041596Z"
    }
   },
   "outputs": [
    {
     "data": {
      "text/plain": [
       "Text(0, 0.5, 'TPR(True Positive Ratio)')"
      ]
     },
     "execution_count": 56,
     "metadata": {},
     "output_type": "execute_result"
    },
    {
     "data": {
      "image/png": "[encoded data removed]",
      "text/plain": [
       "<Figure size 2500x1250 with 1 Axes>"
      ]
     },
     "metadata": {},
     "output_type": "display_data"
    }
   ],
   "source": [
    "plt.plot(fpr,tpr, label = '(AUC= %0.2f)'%auc)\n",
    "plt.grid()\n",
    "plt.legend()\n",
    "\n",
    "plt.xlabel('FPR(False Positive Ratio)', size = 14)\n",
    "plt.ylabel('TPR(True Positive Ratio)', size =14)"
   ]
  },
  {
   "cell_type": "markdown",
   "id": "40c59313",
   "metadata": {},
   "source": [
    "- In above graph the actual threshold value is not clear"
   ]
  },
  {
   "cell_type": "code",
   "execution_count": 60,
   "id": "c2cf4326",
   "metadata": {
    "ExecuteTime": {
     "end_time": "2023-04-17T05:48:47.731357Z",
     "start_time": "2023-04-17T05:48:47.714542Z"
    }
   },
   "outputs": [
    {
     "data": {
      "text/plain": [
       "array([2.        , 1.        , 0.90701471, 0.90648842, 0.90117574,\n",
       "       0.87709615, 0.85955148, 0.85775538, 0.8310217 , 0.81779368,\n",
       "       0.76375363, 0.75557278, 0.75157225, 0.74682103, 0.74668385,\n",
       "       0.74339897, 0.73063368, 0.71645362, 0.69579978, 0.69030255,\n",
       "       0.64218311, 0.63697681, 0.63639799, 0.63573149, 0.62389624,\n",
       "       0.62337616, 0.62032849, 0.61865595, 0.61328381, 0.60856374,\n",
       "       0.59881529, 0.59470127, 0.59157154, 0.59056556, 0.58952849,\n",
       "       0.58660638, 0.57433121, 0.5731052 , 0.57212609, 0.57113995,\n",
       "       0.57000833, 0.5689856 , 0.56759661, 0.5589744 , 0.55504011,\n",
       "       0.55102653, 0.54667107, 0.53947812, 0.53331762, 0.52928342,\n",
       "       0.52618545, 0.51633061, 0.49873152, 0.49796237, 0.49374734,\n",
       "       0.49192916, 0.44875109, 0.44254453, 0.44090977, 0.44067762,\n",
       "       0.44063105, 0.43835111, 0.43495983, 0.43460929, 0.43341783,\n",
       "       0.43295489, 0.43266659, 0.43114317, 0.42880684, 0.42554298,\n",
       "       0.42489218, 0.42284412, 0.42155288, 0.42040753, 0.41853571,\n",
       "       0.41656351, 0.41561345, 0.41337124, 0.41113508, 0.40847759,\n",
       "       0.40839953, 0.39828953, 0.3977905 , 0.39729218, 0.39681353,\n",
       "       0.38960611, 0.38956117, 0.38909427, 0.38813308, 0.38300992,\n",
       "       0.38126267, 0.38102161, 0.38022236, 0.37801604, 0.37711806,\n",
       "       0.37630725, 0.37555168, 0.370873  , 0.36823781, 0.3649825 ,\n",
       "       0.36247234, 0.361052  , 0.3583172 , 0.35783661, 0.35550498,\n",
       "       0.35388303, 0.35335404, 0.35131737, 0.35120509, 0.3507862 ,\n",
       "       0.3470899 , 0.3458794 , 0.33576229, 0.33545829, 0.33494483,\n",
       "       0.33439714, 0.33284005, 0.33238427, 0.33005752, 0.32849474,\n",
       "       0.32663961, 0.32326512, 0.32311623, 0.32300047, 0.32251037,\n",
       "       0.32246708, 0.32157608, 0.31795131, 0.31666494, 0.31359852,\n",
       "       0.30883812, 0.29957768, 0.29888722, 0.29881229, 0.29631884,\n",
       "       0.25756627])"
      ]
     },
     "execution_count": 60,
     "metadata": {},
     "output_type": "execute_result"
    }
   ],
   "source": [
    "threshold"
   ]
  },
  {
   "cell_type": "code",
   "execution_count": 61,
   "id": "f8d1d0eb",
   "metadata": {
    "ExecuteTime": {
     "end_time": "2023-04-17T05:52:12.200819Z",
     "start_time": "2023-04-17T05:52:12.183510Z"
    }
   },
   "outputs": [
    {
     "data": {
      "text/plain": [
       "136"
      ]
     },
     "execution_count": 61,
     "metadata": {},
     "output_type": "execute_result"
    }
   ],
   "source": [
    "len(threshold)"
   ]
  },
  {
   "cell_type": "code",
   "execution_count": 62,
   "id": "15575772",
   "metadata": {
    "ExecuteTime": {
     "end_time": "2023-04-17T05:49:23.026582Z",
     "start_time": "2023-04-17T05:49:23.009410Z"
    },
    "scrolled": true
   },
   "outputs": [],
   "source": [
    "from sklearn.metrics import accuracy_score"
   ]
  },
  {
   "cell_type": "code",
   "execution_count": 63,
   "id": "8fadae3a",
   "metadata": {
    "ExecuteTime": {
     "end_time": "2023-04-17T05:52:27.347537Z",
     "start_time": "2023-04-17T05:52:27.249648Z"
    }
   },
   "outputs": [],
   "source": [
    "accuracy = []\n",
    "\n",
    "for i in threshold:\n",
    "    ypred = np.where(proba>i,1,0)\n",
    "# Wherever the probability associated with +ve class is > than threshold value convert\n",
    "# it in to 1st class otherwise 0 th class. \n",
    "    accuracy.append(accuracy_score(ytest,ypred))"
   ]
  },
  {
   "cell_type": "code",
   "execution_count": 64,
   "id": "de5e36bf",
   "metadata": {
    "ExecuteTime": {
     "end_time": "2023-04-17T05:52:29.256386Z",
     "start_time": "2023-04-17T05:52:29.238224Z"
    }
   },
   "outputs": [
    {
     "data": {
      "text/plain": [
       "[0.5044776119402985,\n",
       " 0.5044776119402985,\n",
       " 0.5492537313432836,\n",
       " 0.5522388059701493,\n",
       " 0.5522388059701493,\n",
       " 0.5522388059701493,\n",
       " 0.5492537313432836,\n",
       " 0.5522388059701493,\n",
       " 0.5582089552238806,\n",
       " 0.5582089552238806,\n",
       " 0.573134328358209,\n",
       " 0.573134328358209,\n",
       " 0.5791044776119403,\n",
       " 0.582089552238806,\n",
       " 0.5791044776119403,\n",
       " 0.582089552238806,\n",
       " 0.591044776119403,\n",
       " 0.5940298507462687,\n",
       " 0.5970149253731343,\n",
       " 0.5970149253731343,\n",
       " 0.6388059701492538,\n",
       " 0.6388059701492538,\n",
       " 0.6358208955223881,\n",
       " 0.6388059701492538,\n",
       " 0.6417910447761194,\n",
       " 0.6447761194029851,\n",
       " 0.6417910447761194,\n",
       " 0.6447761194029851,\n",
       " 0.6477611940298508,\n",
       " 0.6507462686567164,\n",
       " 0.6567164179104478,\n",
       " 0.6537313432835821,\n",
       " 0.6567164179104478,\n",
       " 0.6597014925373135,\n",
       " 0.6597014925373135,\n",
       " 0.6597014925373135,\n",
       " 0.6656716417910448,\n",
       " 0.6656716417910448,\n",
       " 0.6626865671641791,\n",
       " 0.6656716417910448,\n",
       " 0.6626865671641791,\n",
       " 0.6656716417910448,\n",
       " 0.6656716417910448,\n",
       " 0.6656716417910448,\n",
       " 0.6656716417910448,\n",
       " 0.6686567164179105,\n",
       " 0.6656716417910448,\n",
       " 0.6626865671641791,\n",
       " 0.6656716417910448,\n",
       " 0.6686567164179105,\n",
       " 0.6656716417910448,\n",
       " 0.6656716417910448,\n",
       " 0.6746268656716418,\n",
       " 0.6776119402985075,\n",
       " 0.6776119402985075,\n",
       " 0.6805970149253732,\n",
       " 0.7104477611940299,\n",
       " 0.7104477611940299,\n",
       " 0.7074626865671642,\n",
       " 0.7104477611940299,\n",
       " 0.7074626865671642,\n",
       " 0.7044776119402985,\n",
       " 0.7044776119402985,\n",
       " 0.7044776119402985,\n",
       " 0.7014925373134329,\n",
       " 0.7044776119402985,\n",
       " 0.7014925373134329,\n",
       " 0.7044776119402985,\n",
       " 0.7014925373134329,\n",
       " 0.6985074626865672,\n",
       " 0.7014925373134329,\n",
       " 0.6955223880597015,\n",
       " 0.6925373134328359,\n",
       " 0.6925373134328359,\n",
       " 0.6895522388059702,\n",
       " 0.6895522388059702,\n",
       " 0.6865671641791045,\n",
       " 0.6805970149253732,\n",
       " 0.6805970149253732,\n",
       " 0.6805970149253732,\n",
       " 0.6776119402985075,\n",
       " 0.6597014925373135,\n",
       " 0.6567164179104478,\n",
       " 0.6597014925373135,\n",
       " 0.6597014925373135,\n",
       " 0.6507462686567164,\n",
       " 0.6477611940298508,\n",
       " 0.6507462686567164,\n",
       " 0.6477611940298508,\n",
       " 0.6417910447761194,\n",
       " 0.6417910447761194,\n",
       " 0.6447761194029851,\n",
       " 0.6417910447761194,\n",
       " 0.6417910447761194,\n",
       " 0.6417910447761194,\n",
       " 0.6447761194029851,\n",
       " 0.6388059701492538,\n",
       " 0.6358208955223881,\n",
       " 0.6328358208955224,\n",
       " 0.6358208955223881,\n",
       " 0.6298507462686567,\n",
       " 0.6268656716417911,\n",
       " 0.6238805970149254,\n",
       " 0.6208955223880597,\n",
       " 0.6149253731343284,\n",
       " 0.6119402985074627,\n",
       " 0.6119402985074627,\n",
       " 0.6119402985074627,\n",
       " 0.6149253731343284,\n",
       " 0.6119402985074627,\n",
       " 0.608955223880597,\n",
       " 0.6059701492537314,\n",
       " 0.5850746268656717,\n",
       " 0.5850746268656717,\n",
       " 0.5880597014925373,\n",
       " 0.5880597014925373,\n",
       " 0.591044776119403,\n",
       " 0.5880597014925373,\n",
       " 0.591044776119403,\n",
       " 0.5791044776119403,\n",
       " 0.5791044776119403,\n",
       " 0.582089552238806,\n",
       " 0.5791044776119403,\n",
       " 0.582089552238806,\n",
       " 0.5791044776119403,\n",
       " 0.582089552238806,\n",
       " 0.5850746268656717,\n",
       " 0.564179104477612,\n",
       " 0.5611940298507463,\n",
       " 0.5492537313432836,\n",
       " 0.5522388059701493,\n",
       " 0.5313432835820896,\n",
       " 0.5313432835820896,\n",
       " 0.5343283582089552,\n",
       " 0.5313432835820896,\n",
       " 0.49850746268656715]"
      ]
     },
     "execution_count": 64,
     "metadata": {},
     "output_type": "execute_result"
    }
   ],
   "source": [
    "accuracy"
   ]
  },
  {
   "cell_type": "code",
   "execution_count": 65,
   "id": "8d3c367c",
   "metadata": {
    "ExecuteTime": {
     "end_time": "2023-04-17T05:54:12.809350Z",
     "start_time": "2023-04-17T05:54:12.797598Z"
    }
   },
   "outputs": [],
   "source": [
    "thresh_sel = pd.DataFrame({\n",
    "    'Threshold' : threshold,\n",
    "    'Accuracy' :  accuracy\n",
    "})"
   ]
  },
  {
   "cell_type": "code",
   "execution_count": 66,
   "id": "d222c5dd",
   "metadata": {
    "ExecuteTime": {
     "end_time": "2023-04-17T05:54:16.199546Z",
     "start_time": "2023-04-17T05:54:16.178382Z"
    }
   },
   "outputs": [
    {
     "data": {
      "text/html": [
       "<div>\n",
       "<style scoped>\n",
       "    .dataframe tbody tr th:only-of-type {\n",
       "        vertical-align: middle;\n",
       "    }\n",
       "\n",
       "    .dataframe tbody tr th {\n",
       "        vertical-align: top;\n",
       "    }\n",
       "\n",
       "    .dataframe thead th {\n",
       "        text-align: right;\n",
       "    }\n",
       "</style>\n",
       "<table border=\"1\" class=\"dataframe\">\n",
       "  <thead>\n",
       "    <tr style=\"text-align: right;\">\n",
       "      <th></th>\n",
       "      <th>Threshold</th>\n",
       "      <th>Accuracy</th>\n",
       "    </tr>\n",
       "  </thead>\n",
       "  <tbody>\n",
       "    <tr>\n",
       "      <th>0</th>\n",
       "      <td>2.000000</td>\n",
       "      <td>0.504478</td>\n",
       "    </tr>\n",
       "    <tr>\n",
       "      <th>1</th>\n",
       "      <td>1.000000</td>\n",
       "      <td>0.504478</td>\n",
       "    </tr>\n",
       "    <tr>\n",
       "      <th>2</th>\n",
       "      <td>0.907015</td>\n",
       "      <td>0.549254</td>\n",
       "    </tr>\n",
       "    <tr>\n",
       "      <th>3</th>\n",
       "      <td>0.906488</td>\n",
       "      <td>0.552239</td>\n",
       "    </tr>\n",
       "    <tr>\n",
       "      <th>4</th>\n",
       "      <td>0.901176</td>\n",
       "      <td>0.552239</td>\n",
       "    </tr>\n",
       "    <tr>\n",
       "      <th>...</th>\n",
       "      <td>...</td>\n",
       "      <td>...</td>\n",
       "    </tr>\n",
       "    <tr>\n",
       "      <th>131</th>\n",
       "      <td>0.299578</td>\n",
       "      <td>0.531343</td>\n",
       "    </tr>\n",
       "    <tr>\n",
       "      <th>132</th>\n",
       "      <td>0.298887</td>\n",
       "      <td>0.531343</td>\n",
       "    </tr>\n",
       "    <tr>\n",
       "      <th>133</th>\n",
       "      <td>0.298812</td>\n",
       "      <td>0.534328</td>\n",
       "    </tr>\n",
       "    <tr>\n",
       "      <th>134</th>\n",
       "      <td>0.296319</td>\n",
       "      <td>0.531343</td>\n",
       "    </tr>\n",
       "    <tr>\n",
       "      <th>135</th>\n",
       "      <td>0.257566</td>\n",
       "      <td>0.498507</td>\n",
       "    </tr>\n",
       "  </tbody>\n",
       "</table>\n",
       "<p>136 rows × 2 columns</p>\n",
       "</div>"
      ],
      "text/plain": [
       "     Threshold  Accuracy\n",
       "0     2.000000  0.504478\n",
       "1     1.000000  0.504478\n",
       "2     0.907015  0.549254\n",
       "3     0.906488  0.552239\n",
       "4     0.901176  0.552239\n",
       "..         ...       ...\n",
       "131   0.299578  0.531343\n",
       "132   0.298887  0.531343\n",
       "133   0.298812  0.534328\n",
       "134   0.296319  0.531343\n",
       "135   0.257566  0.498507\n",
       "\n",
       "[136 rows x 2 columns]"
      ]
     },
     "execution_count": 66,
     "metadata": {},
     "output_type": "execute_result"
    }
   ],
   "source": [
    "thresh_sel"
   ]
  },
  {
   "cell_type": "code",
   "execution_count": 67,
   "id": "6392c57b",
   "metadata": {
    "ExecuteTime": {
     "end_time": "2023-04-17T05:55:25.181798Z",
     "start_time": "2023-04-17T05:55:25.156756Z"
    }
   },
   "outputs": [
    {
     "data": {
      "text/html": [
       "<div>\n",
       "<style scoped>\n",
       "    .dataframe tbody tr th:only-of-type {\n",
       "        vertical-align: middle;\n",
       "    }\n",
       "\n",
       "    .dataframe tbody tr th {\n",
       "        vertical-align: top;\n",
       "    }\n",
       "\n",
       "    .dataframe thead th {\n",
       "        text-align: right;\n",
       "    }\n",
       "</style>\n",
       "<table border=\"1\" class=\"dataframe\">\n",
       "  <thead>\n",
       "    <tr style=\"text-align: right;\">\n",
       "      <th></th>\n",
       "      <th>Threshold</th>\n",
       "      <th>Accuracy</th>\n",
       "    </tr>\n",
       "  </thead>\n",
       "  <tbody>\n",
       "    <tr>\n",
       "      <th>56</th>\n",
       "      <td>0.448751</td>\n",
       "      <td>0.710448</td>\n",
       "    </tr>\n",
       "    <tr>\n",
       "      <th>59</th>\n",
       "      <td>0.440678</td>\n",
       "      <td>0.710448</td>\n",
       "    </tr>\n",
       "    <tr>\n",
       "      <th>57</th>\n",
       "      <td>0.442545</td>\n",
       "      <td>0.710448</td>\n",
       "    </tr>\n",
       "    <tr>\n",
       "      <th>60</th>\n",
       "      <td>0.440631</td>\n",
       "      <td>0.707463</td>\n",
       "    </tr>\n",
       "    <tr>\n",
       "      <th>58</th>\n",
       "      <td>0.440910</td>\n",
       "      <td>0.707463</td>\n",
       "    </tr>\n",
       "    <tr>\n",
       "      <th>...</th>\n",
       "      <td>...</td>\n",
       "      <td>...</td>\n",
       "    </tr>\n",
       "    <tr>\n",
       "      <th>131</th>\n",
       "      <td>0.299578</td>\n",
       "      <td>0.531343</td>\n",
       "    </tr>\n",
       "    <tr>\n",
       "      <th>132</th>\n",
       "      <td>0.298887</td>\n",
       "      <td>0.531343</td>\n",
       "    </tr>\n",
       "    <tr>\n",
       "      <th>0</th>\n",
       "      <td>2.000000</td>\n",
       "      <td>0.504478</td>\n",
       "    </tr>\n",
       "    <tr>\n",
       "      <th>1</th>\n",
       "      <td>1.000000</td>\n",
       "      <td>0.504478</td>\n",
       "    </tr>\n",
       "    <tr>\n",
       "      <th>135</th>\n",
       "      <td>0.257566</td>\n",
       "      <td>0.498507</td>\n",
       "    </tr>\n",
       "  </tbody>\n",
       "</table>\n",
       "<p>136 rows × 2 columns</p>\n",
       "</div>"
      ],
      "text/plain": [
       "     Threshold  Accuracy\n",
       "56    0.448751  0.710448\n",
       "59    0.440678  0.710448\n",
       "57    0.442545  0.710448\n",
       "60    0.440631  0.707463\n",
       "58    0.440910  0.707463\n",
       "..         ...       ...\n",
       "131   0.299578  0.531343\n",
       "132   0.298887  0.531343\n",
       "0     2.000000  0.504478\n",
       "1     1.000000  0.504478\n",
       "135   0.257566  0.498507\n",
       "\n",
       "[136 rows x 2 columns]"
      ]
     },
     "execution_count": 67,
     "metadata": {},
     "output_type": "execute_result"
    }
   ],
   "source": [
    "thresh_sel.sort_values(by=\"Accuracy\", ascending=False)"
   ]
  },
  {
   "cell_type": "code",
   "execution_count": 68,
   "id": "324da3a6",
   "metadata": {
    "ExecuteTime": {
     "end_time": "2023-04-14T03:54:54.577414Z",
     "start_time": "2023-04-14T03:54:54.569404Z"
    }
   },
   "outputs": [],
   "source": [
    "#Change the threshold value"
   ]
  },
  {
   "cell_type": "code",
   "execution_count": 69,
   "id": "25626bf6",
   "metadata": {
    "ExecuteTime": {
     "end_time": "2023-04-17T05:56:09.516794Z",
     "start_time": "2023-04-17T05:56:09.498542Z"
    }
   },
   "outputs": [],
   "source": [
    "from sklearn.preprocessing import binarize"
   ]
  },
  {
   "cell_type": "code",
   "execution_count": 70,
   "id": "76c59ad3",
   "metadata": {
    "ExecuteTime": {
     "end_time": "2023-04-17T05:58:51.210532Z",
     "start_time": "2023-04-17T05:58:51.197499Z"
    }
   },
   "outputs": [],
   "source": [
    "ypred = binarize([proba], threshold=0.448751)[0]"
   ]
  },
  {
   "cell_type": "code",
   "execution_count": 71,
   "id": "ae3c4980",
   "metadata": {
    "ExecuteTime": {
     "end_time": "2023-04-17T05:58:51.783696Z",
     "start_time": "2023-04-17T05:58:51.755612Z"
    }
   },
   "outputs": [
    {
     "data": {
      "text/plain": [
       "array([0., 0., 0., 0., 1., 0., 0., 1., 0., 0., 0., 0., 0., 1., 0., 1., 0.,\n",
       "       1., 0., 0., 0., 0., 1., 0., 0., 0., 0., 0., 0., 0., 0., 0., 0., 1.,\n",
       "       1., 0., 1., 1., 0., 0., 0., 1., 1., 1., 0., 1., 0., 0., 0., 0., 0.,\n",
       "       0., 0., 0., 1., 0., 1., 0., 1., 0., 1., 1., 0., 1., 1., 1., 0., 1.,\n",
       "       1., 1., 1., 1., 0., 0., 1., 0., 1., 0., 0., 0., 0., 1., 1., 1., 0.,\n",
       "       1., 1., 1., 0., 1., 0., 0., 1., 0., 0., 0., 0., 1., 1., 1., 1., 1.,\n",
       "       1., 1., 1., 1., 0., 0., 1., 1., 1., 0., 0., 0., 1., 1., 1., 0., 0.,\n",
       "       0., 1., 0., 0., 1., 0., 0., 1., 0., 0., 0., 1., 1., 0., 0., 1., 0.,\n",
       "       1., 0., 1., 0., 0., 0., 0., 0., 0., 0., 0., 1., 1., 1., 0., 1., 1.,\n",
       "       1., 1., 1., 1., 0., 0., 1., 0., 1., 0., 1., 0., 1., 1., 0., 0., 0.,\n",
       "       1., 0., 1., 0., 0., 0., 0., 0., 0., 0., 0., 0., 0., 1., 0., 1., 0.,\n",
       "       0., 0., 1., 0., 0., 1., 0., 0., 1., 1., 1., 1., 1., 0., 0., 0., 0.,\n",
       "       1., 0., 0., 1., 1., 1., 0., 0., 1., 0., 0., 1., 1., 0., 0., 0., 1.,\n",
       "       0., 0., 0., 1., 0., 1., 1., 0., 0., 0., 0., 0., 1., 1., 0., 0., 0.,\n",
       "       1., 0., 0., 0., 1., 0., 1., 1., 1., 1., 0., 1., 1., 0., 1., 1., 1.,\n",
       "       1., 1., 0., 1., 1., 1., 0., 1., 0., 0., 0., 1., 0., 1., 1., 0., 1.,\n",
       "       0., 1., 1., 0., 0., 1., 1., 1., 1., 1., 0., 0., 1., 0., 0., 1., 1.,\n",
       "       0., 1., 1., 0., 0., 0., 0., 0., 0., 1., 0., 0., 1., 0., 0., 0., 1.,\n",
       "       1., 1., 1., 1., 1., 0., 0., 1., 0., 0., 0., 0., 1., 1., 1., 0., 0.,\n",
       "       1., 1., 1., 1., 0., 1., 1., 0., 0., 1., 0., 0.])"
      ]
     },
     "execution_count": 71,
     "metadata": {},
     "output_type": "execute_result"
    }
   ],
   "source": [
    "ypred"
   ]
  },
  {
   "cell_type": "code",
   "execution_count": 72,
   "id": "a3837945",
   "metadata": {
    "ExecuteTime": {
     "end_time": "2023-04-17T05:58:56.306943Z",
     "start_time": "2023-04-17T05:58:56.277506Z"
    }
   },
   "outputs": [
    {
     "name": "stdout",
     "output_type": "stream",
     "text": [
      "              precision    recall  f1-score   support\n",
      "\n",
      "           0       0.70      0.76      0.73       169\n",
      "           1       0.73      0.66      0.70       166\n",
      "\n",
      "    accuracy                           0.71       335\n",
      "   macro avg       0.72      0.71      0.71       335\n",
      "weighted avg       0.72      0.71      0.71       335\n",
      "\n"
     ]
    }
   ],
   "source": [
    "print(classification_report(ytest,ypred))"
   ]
  },
  {
   "cell_type": "code",
   "execution_count": 73,
   "id": "b7f03b88",
   "metadata": {
    "ExecuteTime": {
     "end_time": "2023-04-17T06:01:17.316510Z",
     "start_time": "2023-04-17T06:01:17.309290Z"
    }
   },
   "outputs": [],
   "source": [
    "from sklearn.metrics import recall_score"
   ]
  },
  {
   "cell_type": "code",
   "execution_count": null,
   "id": "48eb22ae",
   "metadata": {},
   "outputs": [],
   "source": []
  },
  {
   "cell_type": "code",
   "execution_count": null,
   "id": "cc746cb9",
   "metadata": {},
   "outputs": [],
   "source": []
  }
 ],
 "metadata": {
  "kernelspec": {
   "display_name": "Python 3 (ipykernel)",
   "language": "python",
   "name": "python3"
  },
  "language_info": {
   "codemirror_mode": {
    "name": "ipython",
    "version": 3
   },
   "file_extension": ".py",
   "mimetype": "text/x-python",
   "name": "python",
   "nbconvert_exporter": "python",
   "pygments_lexer": "ipython3",
   "version": "3.9.13"
  }
 },
 "nbformat": 4,
 "nbformat_minor": 5
}
